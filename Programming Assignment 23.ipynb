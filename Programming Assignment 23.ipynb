{
 "cells": [
  {
   "cell_type": "markdown",
   "id": "d35b5ec1",
   "metadata": {},
   "source": [
    "Question 1 Create a function that takes a number as an argument and returns True or False depending\n",
    "\n",
    "on whether the number is symmetrical or not. A number is symmetrical when it is the same as\n",
    "\n",
    "its reverse."
   ]
  },
  {
   "cell_type": "code",
   "execution_count": 5,
   "id": "d1d39bc9",
   "metadata": {},
   "outputs": [],
   "source": [
    "def iSsymmetrical(num):\n",
    "    temp = num[::-1]\n",
    "    return temp == num"
   ]
  },
  {
   "cell_type": "code",
   "execution_count": 7,
   "id": "cde11a01",
   "metadata": {},
   "outputs": [
    {
     "name": "stdout",
     "output_type": "stream",
     "text": [
      "INPUT:\n",
      "124\n",
      "\n",
      "OUTPUT:\n",
      "False\n"
     ]
    }
   ],
   "source": [
    "try:\n",
    "    print(\"INPUT:\")\n",
    "    num = input()\n",
    "    \n",
    "    result = iSsymmetrical(num)\n",
    "    \n",
    "    print(\"\\nOUTPUT:\")\n",
    "    print(result)\n",
    "    \n",
    "except Exception as e:\n",
    "    print(e,\"----Error!!\")"
   ]
  },
  {
   "cell_type": "markdown",
   "id": "f0f31ede",
   "metadata": {},
   "source": [
    "Question 2 Given a string of numbers separated by a comma and space, return the product of the\n",
    "\n",
    "numbers."
   ]
  },
  {
   "cell_type": "code",
   "execution_count": 8,
   "id": "acfd3c09",
   "metadata": {},
   "outputs": [],
   "source": [
    "def product(s):\n",
    "    p = 1\n",
    "    for i in s:\n",
    "        p *= int(i)\n",
    "    return p "
   ]
  },
  {
   "cell_type": "code",
   "execution_count": 9,
   "id": "3d46423a",
   "metadata": {},
   "outputs": [
    {
     "name": "stdout",
     "output_type": "stream",
     "text": [
      "INPUT:\n",
      "1, 2, 5, 6\n",
      "\n",
      "OUTPUT:\n",
      "60\n"
     ]
    }
   ],
   "source": [
    "try:\n",
    "    print(\"INPUT:\")\n",
    "    num = input().split(', ')\n",
    "    \n",
    "    result = product(num)\n",
    "    \n",
    "    print(\"\\nOUTPUT:\")\n",
    "    print(result)\n",
    "    \n",
    "except Exception as e:\n",
    "    print(e,\"----Error!!\")"
   ]
  },
  {
   "cell_type": "markdown",
   "id": "24918ebd",
   "metadata": {},
   "source": [
    "Question 3 Create a function that squares every digit of a number."
   ]
  },
  {
   "cell_type": "code",
   "execution_count": 14,
   "id": "c865ca1d",
   "metadata": {},
   "outputs": [],
   "source": [
    "def squares(num):\n",
    "    num = str(num)\n",
    "    temp = \"\" \n",
    "    for i in num:\n",
    "        temp += str(int(i)**2)\n",
    "    return int(temp)"
   ]
  },
  {
   "cell_type": "code",
   "execution_count": 15,
   "id": "9e4c714e",
   "metadata": {},
   "outputs": [
    {
     "name": "stdout",
     "output_type": "stream",
     "text": [
      "INPUT:\n",
      "1234\n",
      "\n",
      "OUTPUT:\n",
      "14916\n"
     ]
    }
   ],
   "source": [
    "try:\n",
    "    print(\"INPUT:\")\n",
    "    num = int(input())\n",
    "    \n",
    "    result = squares(num)\n",
    "    \n",
    "    print(\"\\nOUTPUT:\")\n",
    "    print(result)\n",
    "    \n",
    "except Exception as e:\n",
    "    print(e,\"----Error!!\")"
   ]
  },
  {
   "cell_type": "markdown",
   "id": "8bbddd71",
   "metadata": {},
   "source": [
    "Question 4 Create a function that sorts a list and removes all duplicate items from it."
   ]
  },
  {
   "cell_type": "code",
   "execution_count": 18,
   "id": "86975b33",
   "metadata": {},
   "outputs": [],
   "source": [
    "def sort(l):\n",
    "    temp = []\n",
    "    l.sort()\n",
    "    for i in l:\n",
    "        if int(i) not in temp:\n",
    "            temp.append(int(i))\n",
    "            \n",
    "    return temp"
   ]
  },
  {
   "cell_type": "code",
   "execution_count": 20,
   "id": "8509b528",
   "metadata": {},
   "outputs": [
    {
     "name": "stdout",
     "output_type": "stream",
     "text": [
      "INPUT:\n",
      "1,7,2,3,9,4,5,6,8,1,9,2\n",
      "\n",
      "OUTPUT:\n",
      "[1, 2, 3, 4, 5, 6, 7, 8, 9]\n"
     ]
    }
   ],
   "source": [
    "try:\n",
    "    print(\"INPUT:\")\n",
    "    l = input().split(',') \n",
    "    \n",
    "    result = sort(l)\n",
    "    \n",
    "    print(\"\\nOUTPUT:\")\n",
    "    print(result)\n",
    "    \n",
    "except Exception as e:\n",
    "    print(e,\"----Error!!\")"
   ]
  },
  {
   "cell_type": "markdown",
   "id": "888478f7",
   "metadata": {},
   "source": [
    "Question 5 Create a function that returns the mean of all digits."
   ]
  },
  {
   "cell_type": "code",
   "execution_count": 21,
   "id": "f7ffebd0",
   "metadata": {},
   "outputs": [],
   "source": [
    "def mean(num):\n",
    "    Sum = 0\n",
    "    for i in num:\n",
    "        Sum += int(i)\n",
    "        \n",
    "    return int(Sum/len(num))"
   ]
  },
  {
   "cell_type": "code",
   "execution_count": 23,
   "id": "5227c544",
   "metadata": {},
   "outputs": [
    {
     "name": "stdout",
     "output_type": "stream",
     "text": [
      "INPUT:\n",
      "666\n",
      "\n",
      "OUTPUT:\n",
      "6\n"
     ]
    }
   ],
   "source": [
    "try:\n",
    "    print(\"INPUT:\")\n",
    "    num = input()\n",
    "    \n",
    "    result = mean(num)\n",
    "    \n",
    "    print(\"\\nOUTPUT:\")\n",
    "    print(result)\n",
    "    \n",
    "except Exception as e:\n",
    "    print(e,\"----Error!!\")"
   ]
  }
 ],
 "metadata": {
  "kernelspec": {
   "display_name": "Python 3 (ipykernel)",
   "language": "python",
   "name": "python3"
  },
  "language_info": {
   "codemirror_mode": {
    "name": "ipython",
    "version": 3
   },
   "file_extension": ".py",
   "mimetype": "text/x-python",
   "name": "python",
   "nbconvert_exporter": "python",
   "pygments_lexer": "ipython3",
   "version": "3.9.7"
  }
 },
 "nbformat": 4,
 "nbformat_minor": 5
}
