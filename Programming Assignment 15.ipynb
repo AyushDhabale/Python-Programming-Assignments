{
 "cells": [
  {
   "cell_type": "markdown",
   "id": "c113cea1",
   "metadata": {},
   "source": [
    "Question 1:\n",
    "Please write a program using generator to print the numbers which can be divisible by 5 and\n",
    "\n",
    "7 between 0 and n in comma separated form while n is input by console."
   ]
  },
  {
   "cell_type": "code",
   "execution_count": 1,
   "id": "f1188488",
   "metadata": {},
   "outputs": [],
   "source": [
    "def Divisible(n):\n",
    "    for i in range(n+1):\n",
    "        if i%7==0 and i%5==0:\n",
    "            yield i"
   ]
  },
  {
   "cell_type": "code",
   "execution_count": 2,
   "id": "932a9730",
   "metadata": {},
   "outputs": [
    {
     "name": "stdout",
     "output_type": "stream",
     "text": [
      "INPUT:\n",
      "300\n",
      "\n",
      "OUTPUT:\n",
      "0, 35, 70, 105, 140, 175, 210, 245, 280"
     ]
    }
   ],
   "source": [
    "try:\n",
    "    print(\"INPUT:\")\n",
    "    n = int(input())\n",
    "    l = []\n",
    "    for i in Divisible(n):\n",
    "        l.append(i)\n",
    "    print(\"\\nOUTPUT:\")    \n",
    "    for i in str(l):\n",
    "        if i == '[' or i ==']':\n",
    "            continue\n",
    "            \n",
    "        else:\n",
    "            print(i,end=\"\")\n",
    "            \n",
    "except Exception as e:\n",
    "    print(e,\"---Error!!\")"
   ]
  },
  {
   "cell_type": "markdown",
   "id": "30158292",
   "metadata": {},
   "source": [
    "Question 2:\n",
    "Please write a program using generator to print the even numbers between 0 and n in comma\n",
    "\n",
    "separated form while n is input by console."
   ]
  },
  {
   "cell_type": "code",
   "execution_count": 3,
   "id": "73f4b7a8",
   "metadata": {},
   "outputs": [],
   "source": [
    "def even(n):\n",
    "    for i in range(n+1):\n",
    "        if i%2==0:\n",
    "            yield i"
   ]
  },
  {
   "cell_type": "code",
   "execution_count": 4,
   "id": "ac61d928",
   "metadata": {},
   "outputs": [
    {
     "name": "stdout",
     "output_type": "stream",
     "text": [
      "INPUT:\n",
      "150\n",
      "\n",
      "OUTPUT:\n",
      "0, 2, 4, 6, 8, 10, 12, 14, 16, 18, 20, 22, 24, 26, 28, 30, 32, 34, 36, 38, 40, 42, 44, 46, 48, 50, 52, 54, 56, 58, 60, 62, 64, 66, 68, 70, 72, 74, 76, 78, 80, 82, 84, 86, 88, 90, 92, 94, 96, 98, 100, 102, 104, 106, 108, 110, 112, 114, 116, 118, 120, 122, 124, 126, 128, 130, 132, 134, 136, 138, 140, 142, 144, 146, 148, 150"
     ]
    }
   ],
   "source": [
    "try:\n",
    "    print(\"INPUT:\")\n",
    "    n = int(input())\n",
    "    l = []\n",
    "    for i in even(n):\n",
    "        l.append(i)\n",
    "    print(\"\\nOUTPUT:\")    \n",
    "    for i in str(l):\n",
    "        if i == '[' or i ==']':\n",
    "            continue\n",
    "            \n",
    "        else:\n",
    "            print(i,end=\"\")\n",
    "            \n",
    "except Exception as e:\n",
    "    print(e,\"---Error!!\")"
   ]
  },
  {
   "cell_type": "markdown",
   "id": "96175a4f",
   "metadata": {},
   "source": [
    "Question 3:Please write a program using list comprehension to print the Fibonacci Sequence in comma\n",
    "\n",
    "separated form with a given n input by console."
   ]
  },
  {
   "cell_type": "code",
   "execution_count": 5,
   "id": "ff0d3856",
   "metadata": {},
   "outputs": [],
   "source": [
    "def Fibonacci(n):\n",
    "    f = [1,2]\n",
    "    i,j = 0,1\n",
    "    while j<n:\n",
    "        f.append(f[i]+f[j])\n",
    "        i +=1\n",
    "        j+=1\n",
    "    return f"
   ]
  },
  {
   "cell_type": "code",
   "execution_count": 6,
   "id": "fb3dc7aa",
   "metadata": {},
   "outputs": [
    {
     "name": "stdout",
     "output_type": "stream",
     "text": [
      "INPUT:\n",
      "20\n",
      "\n",
      "OUTPUT:\n",
      "1, 2, 3, 5, 8, 13, 21, 34, 55, 89, 144, 233, 377, 610, 987, 1597, 2584, 4181, 6765, 10946, 17711"
     ]
    }
   ],
   "source": [
    "try:\n",
    "    print(\"INPUT:\")\n",
    "    n = int(input())\n",
    "    f = Fibonacci(n)\n",
    "    \n",
    "    print(\"\\nOUTPUT:\")    \n",
    "    for i in str(f):\n",
    "        if i == '[' or i ==']':\n",
    "            continue\n",
    "            \n",
    "        else:\n",
    "            print(i,end=\"\")\n",
    "            \n",
    "except Exception as e:\n",
    "    print(e,\"---Error!!\")"
   ]
  },
  {
   "cell_type": "markdown",
   "id": "80df552f",
   "metadata": {},
   "source": [
    "Question 4:\n",
    "Assuming that we have some email addresses in the &quot;username@companyname.com&quot; format,\n",
    "\n",
    "please write program to print the user name of a given email address. Both user names and\n",
    "\n",
    "company names are composed of letters only."
   ]
  },
  {
   "cell_type": "code",
   "execution_count": 7,
   "id": "e69c3e69",
   "metadata": {},
   "outputs": [],
   "source": [
    "def Username(s):\n",
    "    i = 0\n",
    "    name = \"\"\n",
    "    while s[i] != '@':\n",
    "        name += s[i]\n",
    "        i += 1\n",
    "        \n",
    "    return name"
   ]
  },
  {
   "cell_type": "code",
   "execution_count": 8,
   "id": "30365fd4",
   "metadata": {},
   "outputs": [
    {
     "name": "stdout",
     "output_type": "stream",
     "text": [
      "INPUT:\n",
      "ayush@ineuron.com\n",
      "\n",
      "OUTPUT:\n",
      "ayush\n"
     ]
    }
   ],
   "source": [
    "try:\n",
    "    print(\"INPUT:\")\n",
    "    s = input()\n",
    "    name = Username(s)\n",
    "    \n",
    "    print(\"\\nOUTPUT:\")\n",
    "    print(name)\n",
    "    \n",
    "except Exception as e:\n",
    "    print(e,\"---Error!!\")"
   ]
  },
  {
   "cell_type": "markdown",
   "id": "b5896745",
   "metadata": {},
   "source": [
    "Question 5:\n",
    "Define a class named Shape and its subclass Square. The Square class has an init function\n",
    "\n",
    "which takes a length as argument. Both classes have a area function which can print the area\n",
    "\n",
    "of the shape where Shape&#39;s area is 0 by default."
   ]
  },
  {
   "cell_type": "code",
   "execution_count": 9,
   "id": "925876ae",
   "metadata": {},
   "outputs": [],
   "source": [
    "class Shape():\n",
    "    def __init__(self,length):\n",
    "        self.length = length\n",
    "        \n",
    "    def Area(self):\n",
    "        area = 0\n",
    "        print(area)\n",
    "        \n",
    "class Square(Shape):\n",
    "    def Area(self):\n",
    "        area = 0\n",
    "        print(area)"
   ]
  },
  {
   "cell_type": "code",
   "execution_count": 10,
   "id": "6a7b47c0",
   "metadata": {},
   "outputs": [
    {
     "name": "stdout",
     "output_type": "stream",
     "text": [
      "0\n"
     ]
    }
   ],
   "source": [
    "x = Square(7)\n",
    "x.Area()"
   ]
  },
  {
   "cell_type": "code",
   "execution_count": 11,
   "id": "a3c7d2d2",
   "metadata": {},
   "outputs": [
    {
     "name": "stdout",
     "output_type": "stream",
     "text": [
      "0\n"
     ]
    }
   ],
   "source": [
    "y = Shape(8)\n",
    "y.Area()"
   ]
  }
 ],
 "metadata": {
  "kernelspec": {
   "display_name": "Python 3 (ipykernel)",
   "language": "python",
   "name": "python3"
  },
  "language_info": {
   "codemirror_mode": {
    "name": "ipython",
    "version": 3
   },
   "file_extension": ".py",
   "mimetype": "text/x-python",
   "name": "python",
   "nbconvert_exporter": "python",
   "pygments_lexer": "ipython3",
   "version": "3.9.7"
  }
 },
 "nbformat": 4,
 "nbformat_minor": 5
}
