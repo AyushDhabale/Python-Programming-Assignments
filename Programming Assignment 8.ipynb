{
 "cells": [
  {
   "cell_type": "markdown",
   "id": "b8f85d70",
   "metadata": {},
   "source": [
    "1.Write a Python Program to Add Two Matrices?"
   ]
  },
  {
   "cell_type": "code",
   "execution_count": 1,
   "id": "6003c632",
   "metadata": {},
   "outputs": [],
   "source": [
    "def Add_matrices(a,b,temp):\n",
    "     \n",
    "    for i in range(len(a)):\n",
    "        for j in range(len(a[0])):\n",
    "            temp[i][j] = a[i][j] + b[i][j]\n",
    "            \n",
    "    return temp\n",
    "            "
   ]
  },
  {
   "cell_type": "code",
   "execution_count": 2,
   "id": "bf53fa2d",
   "metadata": {},
   "outputs": [],
   "source": [
    "a = [[1,2,3],[7,8,9],[4,5,6]]\n",
    "b = [[11,12,13],[17,18,19],[14,15,16]]\n",
    "temp = [[0,0,0],[0,0,0],[0,0,0]]\n",
    "\n",
    "try:\n",
    "    if len(a) == len(b) and len(a[0])== len(b[0]):\n",
    "        temp = Add_matrices(a,b,temp)\n",
    "        \n",
    "except:\n",
    "    print(\"Error!!\")"
   ]
  },
  {
   "cell_type": "code",
   "execution_count": 3,
   "id": "8b084f52",
   "metadata": {},
   "outputs": [
    {
     "data": {
      "text/plain": [
       "[[12, 14, 16], [24, 26, 28], [18, 20, 22]]"
      ]
     },
     "execution_count": 3,
     "metadata": {},
     "output_type": "execute_result"
    }
   ],
   "source": [
    "temp"
   ]
  },
  {
   "cell_type": "markdown",
   "id": "be2dc5eb",
   "metadata": {},
   "source": [
    "2.Write a Python Program to Multiply Two Matrices?"
   ]
  },
  {
   "cell_type": "code",
   "execution_count": 4,
   "id": "da6dba86",
   "metadata": {},
   "outputs": [],
   "source": [
    "def Multiply_matrices(a,b,temp):\n",
    "    for i in range(len(a)):\n",
    "        for j in range(len(b[0])):\n",
    "            for k in range(len(b)):\n",
    "                temp[i][j] += a[i][k] * b[k][j]\n",
    "    \n",
    "    return temp    "
   ]
  },
  {
   "cell_type": "code",
   "execution_count": 5,
   "id": "8ca3a778",
   "metadata": {},
   "outputs": [],
   "source": [
    "a = [[1,2,3],[7,8,9],[4,5,6]]\n",
    "b = [[11,12,13],[17,18,19],[14,15,16]]\n",
    "temp = [[0,0,0],[0,0,0],[0,0,0]]\n",
    "\n",
    "try:\n",
    "    if len(a[0])== len(b[0]):\n",
    "        temp = Multiply_matrices(a,b,temp)\n",
    "        \n",
    "except:\n",
    "    print(\"Error!!\")"
   ]
  },
  {
   "cell_type": "code",
   "execution_count": 6,
   "id": "172fc1fe",
   "metadata": {},
   "outputs": [
    {
     "data": {
      "text/plain": [
       "[[87, 93, 99], [339, 363, 387], [213, 228, 243]]"
      ]
     },
     "execution_count": 6,
     "metadata": {},
     "output_type": "execute_result"
    }
   ],
   "source": [
    "temp"
   ]
  },
  {
   "cell_type": "markdown",
   "id": "a9eb282f",
   "metadata": {},
   "source": [
    "3.Write a Python Program to Transpose a Matrix?"
   ]
  },
  {
   "cell_type": "code",
   "execution_count": 7,
   "id": "8db85a67",
   "metadata": {},
   "outputs": [],
   "source": [
    "def Transpose(a,temp):\n",
    "    for i in range(len(a)):\n",
    "        for j in range(len(a[0])):\n",
    "            temp[i][j]= a[j][i]\n",
    "            \n",
    "    return temp"
   ]
  },
  {
   "cell_type": "code",
   "execution_count": 8,
   "id": "e285ccbf",
   "metadata": {},
   "outputs": [],
   "source": [
    "a = [[1,2,3],[7,8,9],[4,5,6]]\n",
    "temp = [[0,0,0],[0,0,0],[0,0,0]]\n",
    "temp = Transpose(a,temp)"
   ]
  },
  {
   "cell_type": "code",
   "execution_count": 9,
   "id": "37796f24",
   "metadata": {},
   "outputs": [
    {
     "data": {
      "text/plain": [
       "[[1, 7, 4], [2, 8, 5], [3, 9, 6]]"
      ]
     },
     "execution_count": 9,
     "metadata": {},
     "output_type": "execute_result"
    }
   ],
   "source": [
    "temp"
   ]
  },
  {
   "cell_type": "markdown",
   "id": "6ae04d81",
   "metadata": {},
   "source": [
    "4.Write a Python Program to Sort Words in Alphabetic Order?"
   ]
  },
  {
   "cell_type": "code",
   "execution_count": 10,
   "id": "0aa38c51",
   "metadata": {},
   "outputs": [],
   "source": [
    "def Alphabetic_Order(a):\n",
    "    a = a.upper()\n",
    "    a = a.split()\n",
    "    a.sort()\n",
    "    return a      "
   ]
  },
  {
   "cell_type": "code",
   "execution_count": 12,
   "id": "710e1f50",
   "metadata": {},
   "outputs": [
    {
     "name": "stdout",
     "output_type": "stream",
     "text": [
      "This is my eighth programming assignment in basic python\n"
     ]
    }
   ],
   "source": [
    "try:\n",
    "    a = input()\n",
    "    a = Alphabetic_Order(a)\n",
    "    \n",
    "except Exception as r:\n",
    "    print(r,\"Error!!\")\n"
   ]
  },
  {
   "cell_type": "code",
   "execution_count": 13,
   "id": "9a5fedf2",
   "metadata": {},
   "outputs": [
    {
     "data": {
      "text/plain": [
       "['ASSIGNMENT',\n",
       " 'BASIC',\n",
       " 'EIGHTH',\n",
       " 'IN',\n",
       " 'IS',\n",
       " 'MY',\n",
       " 'PROGRAMMING',\n",
       " 'PYTHON',\n",
       " 'THIS']"
      ]
     },
     "execution_count": 13,
     "metadata": {},
     "output_type": "execute_result"
    }
   ],
   "source": [
    "a"
   ]
  },
  {
   "cell_type": "markdown",
   "id": "91a148e5",
   "metadata": {},
   "source": [
    "5.Write a Python Program to Remove Punctuation From a String?"
   ]
  },
  {
   "cell_type": "code",
   "execution_count": 14,
   "id": "64c8e3bd",
   "metadata": {},
   "outputs": [],
   "source": [
    "import string\n",
    "def PUNCTUATION(a):\n",
    "    result=\"\"\n",
    "    temp = string.punctuation\n",
    "    \n",
    "    for i in a:\n",
    "        if i in temp:\n",
    "            continue\n",
    "        \n",
    "        else:\n",
    "            result += i\n",
    "            \n",
    "    return result\n",
    "        "
   ]
  },
  {
   "cell_type": "code",
   "execution_count": 15,
   "id": "b681c736",
   "metadata": {},
   "outputs": [
    {
     "name": "stdout",
     "output_type": "stream",
     "text": [
      "\"This is my eighth programming assignment, in basic python!!\"\n"
     ]
    }
   ],
   "source": [
    "try:\n",
    "    a = input()\n",
    "    a = PUNCTUATION(a)\n",
    "    \n",
    "except:\n",
    "    print(\"Error!!\")"
   ]
  },
  {
   "cell_type": "code",
   "execution_count": 16,
   "id": "1d6708be",
   "metadata": {},
   "outputs": [
    {
     "data": {
      "text/plain": [
       "'This is my eighth programming assignment in basic python'"
      ]
     },
     "execution_count": 16,
     "metadata": {},
     "output_type": "execute_result"
    }
   ],
   "source": [
    "a"
   ]
  }
 ],
 "metadata": {
  "kernelspec": {
   "display_name": "Python 3 (ipykernel)",
   "language": "python",
   "name": "python3"
  },
  "language_info": {
   "codemirror_mode": {
    "name": "ipython",
    "version": 3
   },
   "file_extension": ".py",
   "mimetype": "text/x-python",
   "name": "python",
   "nbconvert_exporter": "python",
   "pygments_lexer": "ipython3",
   "version": "3.9.7"
  }
 },
 "nbformat": 4,
 "nbformat_minor": 5
}
