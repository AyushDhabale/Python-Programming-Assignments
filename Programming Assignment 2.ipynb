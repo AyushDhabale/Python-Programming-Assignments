{
 "cells": [
  {
   "cell_type": "markdown",
   "id": "61a9878c",
   "metadata": {},
   "source": [
    "1.Write a Python program to convert kilometers to miles?"
   ]
  },
  {
   "cell_type": "code",
   "execution_count": 1,
   "id": "2b2be998",
   "metadata": {},
   "outputs": [],
   "source": [
    "m = 0.62\n",
    "def km_to_miles(a):\n",
    "    return a * m\n",
    "    \n",
    "    "
   ]
  },
  {
   "cell_type": "code",
   "execution_count": 2,
   "id": "4dfecc2a",
   "metadata": {},
   "outputs": [
    {
     "data": {
      "text/plain": [
       "2.48"
      ]
     },
     "execution_count": 2,
     "metadata": {},
     "output_type": "execute_result"
    }
   ],
   "source": [
    "km_to_miles(4)"
   ]
  },
  {
   "cell_type": "markdown",
   "id": "5cefcd07",
   "metadata": {},
   "source": [
    "2.Write a Python program to convert Celsius to Fahrenheit?"
   ]
  },
  {
   "cell_type": "code",
   "execution_count": 3,
   "id": "1ec2a945",
   "metadata": {},
   "outputs": [],
   "source": [
    "f = 32\n",
    "def C_to_F(a):\n",
    "    return(a*9/5 + f)"
   ]
  },
  {
   "cell_type": "code",
   "execution_count": 4,
   "id": "377ffad8",
   "metadata": {},
   "outputs": [
    {
     "data": {
      "text/plain": [
       "39.2"
      ]
     },
     "execution_count": 4,
     "metadata": {},
     "output_type": "execute_result"
    }
   ],
   "source": [
    "C_to_F(4)"
   ]
  },
  {
   "cell_type": "markdown",
   "id": "dc768022",
   "metadata": {},
   "source": [
    "3.Write a Python program to display calendar?"
   ]
  },
  {
   "cell_type": "code",
   "execution_count": 5,
   "id": "273b8ed7",
   "metadata": {},
   "outputs": [],
   "source": [
    "import calendar\n",
    "\n",
    "def CALENDAR(year,month):\n",
    "    return calendar.month(year,month)"
   ]
  },
  {
   "cell_type": "code",
   "execution_count": 6,
   "id": "44b4bd9f",
   "metadata": {},
   "outputs": [
    {
     "data": {
      "text/plain": [
       "'   September 2002\\nMo Tu We Th Fr Sa Su\\n                   1\\n 2  3  4  5  6  7  8\\n 9 10 11 12 13 14 15\\n16 17 18 19 20 21 22\\n23 24 25 26 27 28 29\\n30\\n'"
      ]
     },
     "execution_count": 6,
     "metadata": {},
     "output_type": "execute_result"
    }
   ],
   "source": [
    "CALENDAR(2002,9)"
   ]
  },
  {
   "cell_type": "markdown",
   "id": "fd26c60a",
   "metadata": {},
   "source": [
    "September 2002\n",
    "\n",
    "     Mo    Tu    We    Th    Fr    Sa     Su                   \n",
    "                                           1 \n",
    " \n",
    "     2      3     4     5     6     7      8 \n",
    "\n",
    "     9     10    11    12    13    14     15\n",
    "\n",
    "    16     17    18    19    20    21     22\n",
    "\n",
    "    23     24    25    26    27    28     29\n",
    "\n",
    "    30"
   ]
  },
  {
   "cell_type": "markdown",
   "id": "1ca7090a",
   "metadata": {},
   "source": [
    "4.Write a Python program to solve quadratic equation?"
   ]
  },
  {
   "cell_type": "code",
   "execution_count": 26,
   "id": "1b989108",
   "metadata": {},
   "outputs": [],
   "source": [
    "import math\n",
    "\n",
    "def find_roots(a,b,c):\n",
    "    d = b**2 - 4*a*c\n",
    "    D = math.sqrt(abs(b**2 - 4*a*c))\n",
    "    root_1 = 0\n",
    "    root_2 = 0\n",
    "    if d > 0:\n",
    "        root_1 = (-b + D)/2*a\n",
    "        root_2 = (-b - D)/2*a\n",
    "        return root_1,root_2\n",
    "    \n",
    "    elif d==0:\n",
    "        root_1 = root_2 = (-b)/2*a\n",
    "        return root_1,root_2\n",
    "    \n",
    "    else:\n",
    "        root_1 = str(-b/2*a) + ' - '+ str(D/2*a) +'i'\n",
    "        root_2 = str(-b/2*a) + ' + '+ str(D/2*a) +'i'\n",
    "        return root_1,root_2    "
   ]
  },
  {
   "cell_type": "code",
   "execution_count": 29,
   "id": "60d398e8",
   "metadata": {},
   "outputs": [
    {
     "name": "stdout",
     "output_type": "stream",
     "text": [
      "Enter the coefficient of 'x**2':2\n",
      "Enter the coefficient of 'x':4\n",
      "Enter the constant:17\n"
     ]
    }
   ],
   "source": [
    "try:\n",
    "    a = int(input(\"Enter the coefficient of 'x**2':\"))\n",
    "    b = int(input(\"Enter the coefficient of 'x':\"))\n",
    "    c = int(input(\"Enter the constant:\"))\n",
    "    \n",
    "    if a != 0:\n",
    "        r1,r2=find_roots(a,b,c)\n",
    "        \n",
    "    else:\n",
    "        print(\"Enter valid quadratic equation!\")\n",
    "    \n",
    "except Exception as e:\n",
    "    print(\"Error!! \",e)\n",
    "    "
   ]
  },
  {
   "cell_type": "code",
   "execution_count": 30,
   "id": "2afc403c",
   "metadata": {},
   "outputs": [
    {
     "data": {
      "text/plain": [
       "'-4.0 - 10.954451150103322i'"
      ]
     },
     "execution_count": 30,
     "metadata": {},
     "output_type": "execute_result"
    }
   ],
   "source": [
    "r1\n"
   ]
  },
  {
   "cell_type": "code",
   "execution_count": 31,
   "id": "e4bdfbb4",
   "metadata": {},
   "outputs": [
    {
     "data": {
      "text/plain": [
       "'-4.0 + 10.954451150103322i'"
      ]
     },
     "execution_count": 31,
     "metadata": {},
     "output_type": "execute_result"
    }
   ],
   "source": [
    "r2"
   ]
  },
  {
   "cell_type": "markdown",
   "id": "01d34df8",
   "metadata": {},
   "source": [
    "5.Write a Python program to swap two variables without temp variable?"
   ]
  },
  {
   "cell_type": "code",
   "execution_count": 32,
   "id": "cd7f1dbf",
   "metadata": {},
   "outputs": [],
   "source": [
    "def Swap(a,b):\n",
    "    a,b = b,a\n",
    "    return a,b"
   ]
  },
  {
   "cell_type": "code",
   "execution_count": 33,
   "id": "eeec52ed",
   "metadata": {},
   "outputs": [],
   "source": [
    "a = 10\n",
    "b = 20"
   ]
  },
  {
   "cell_type": "code",
   "execution_count": 35,
   "id": "cc175fa5",
   "metadata": {},
   "outputs": [],
   "source": [
    "a,b =Swap(a,b)"
   ]
  },
  {
   "cell_type": "code",
   "execution_count": 36,
   "id": "9593a978",
   "metadata": {},
   "outputs": [
    {
     "data": {
      "text/plain": [
       "20"
      ]
     },
     "execution_count": 36,
     "metadata": {},
     "output_type": "execute_result"
    }
   ],
   "source": [
    "a\n"
   ]
  },
  {
   "cell_type": "code",
   "execution_count": 37,
   "id": "e83dc0a6",
   "metadata": {},
   "outputs": [
    {
     "data": {
      "text/plain": [
       "10"
      ]
     },
     "execution_count": 37,
     "metadata": {},
     "output_type": "execute_result"
    }
   ],
   "source": [
    "b"
   ]
  },
  {
   "cell_type": "code",
   "execution_count": null,
   "id": "a9fbf6d1",
   "metadata": {},
   "outputs": [],
   "source": []
  }
 ],
 "metadata": {
  "kernelspec": {
   "display_name": "Python 3 (ipykernel)",
   "language": "python",
   "name": "python3"
  },
  "language_info": {
   "codemirror_mode": {
    "name": "ipython",
    "version": 3
   },
   "file_extension": ".py",
   "mimetype": "text/x-python",
   "name": "python",
   "nbconvert_exporter": "python",
   "pygments_lexer": "ipython3",
   "version": "3.9.7"
  }
 },
 "nbformat": 4,
 "nbformat_minor": 5
}
