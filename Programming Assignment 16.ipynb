{
 "cells": [
  {
   "cell_type": "markdown",
   "id": "02b2f604",
   "metadata": {},
   "source": [
    "Question1. Write a function that stutters a word as if someone is struggling to read it. The\n",
    "\n",
    "first two letters are repeated twice with an ellipsis ... and space after each, and then the\n",
    "\n",
    "word is pronounced with a question mark ?."
   ]
  },
  {
   "cell_type": "code",
   "execution_count": 1,
   "id": "a5032e07",
   "metadata": {},
   "outputs": [],
   "source": [
    "def Stutter(s):\n",
    "    temp = \"\"\n",
    "    for i in range(len(s)):\n",
    "        if i == 2:\n",
    "            temp2 = temp\n",
    "            temp += \"... \" + \" \" + temp + \"... \" \n",
    "            temp += temp2 + s[i]\n",
    "            \n",
    "        else:\n",
    "            temp += s[i]\n",
    "    temp += '?'      \n",
    "    return temp      "
   ]
  },
  {
   "cell_type": "code",
   "execution_count": 2,
   "id": "5d01e73e",
   "metadata": {},
   "outputs": [
    {
     "name": "stdout",
     "output_type": "stream",
     "text": [
      "INPUT:\n",
      "corresponding\n",
      "\n",
      "OUTPUT:\n",
      "co...  co... corresponding?\n"
     ]
    }
   ],
   "source": [
    "try:\n",
    "    print(\"INPUT:\")\n",
    "    s = input()\n",
    "    s = s.lower()\n",
    "    word = Stutter(s)\n",
    "    \n",
    "    print(\"\\nOUTPUT:\")\n",
    "    print(word)\n",
    "    \n",
    "except Exception as e:\n",
    "    print(e,\"---Error!!\")"
   ]
  },
  {
   "cell_type": "markdown",
   "id": "6020f89d",
   "metadata": {},
   "source": [
    "Question 2.Create a function that takes an angle in radians and returns the corresponding\n",
    "\n",
    "angle in degrees rounded to one decimal place."
   ]
  },
  {
   "cell_type": "code",
   "execution_count": 3,
   "id": "ab9f4458",
   "metadata": {},
   "outputs": [],
   "source": [
    "import math\n",
    "def Degree(r):\n",
    "    p = math.pi\n",
    "    d = (r * 180) /p\n",
    "    \n",
    "    return round(d,1)    "
   ]
  },
  {
   "cell_type": "code",
   "execution_count": 4,
   "id": "bcb6ebfe",
   "metadata": {},
   "outputs": [
    {
     "name": "stdout",
     "output_type": "stream",
     "text": [
      "INPUT:\n",
      "8\n",
      "\n",
      "OUTPUT:\n",
      "458.4\n"
     ]
    }
   ],
   "source": [
    "try:\n",
    "    print(\"INPUT:\")\n",
    "    r = int(input())\n",
    "    degree = Degree(r)\n",
    "    \n",
    "    print(\"\\nOUTPUT:\")\n",
    "    print(degree)\n",
    "    \n",
    "except Exception as e:\n",
    "    print(e,\"---Error!!\")"
   ]
  },
  {
   "cell_type": "markdown",
   "id": "c4dec161",
   "metadata": {},
   "source": [
    "Question 3. In this challenge, establish if a given integer num is a Curzon number. If 1 plus\n",
    "\n",
    "2 elevated to num is exactly divisible by 1 plus 2 multiplied by num, then num is a Curzon\n",
    "\n",
    "number.\n",
    "\n",
    "Given a non-negative integer num, implement a function that returns True if num is a Curzon\n",
    "\n",
    "number, or False otherwise."
   ]
  },
  {
   "cell_type": "code",
   "execution_count": 5,
   "id": "05e7bee9",
   "metadata": {},
   "outputs": [],
   "source": [
    "def isCurzonNum(N):\n",
    "    if (2**N + 1) % (2*N + 1) == 0:\n",
    "        return True\n",
    "    \n",
    "    else:\n",
    "        return False"
   ]
  },
  {
   "cell_type": "code",
   "execution_count": 6,
   "id": "480b8f83",
   "metadata": {},
   "outputs": [
    {
     "name": "stdout",
     "output_type": "stream",
     "text": [
      "INPUT:\n",
      "5\n",
      "\n",
      "OUTPUT:\n",
      "True\n"
     ]
    }
   ],
   "source": [
    "try:\n",
    "    print(\"INPUT:\")\n",
    "    N = int(input())\n",
    "    Flag = isCurzonNum(N)\n",
    "    \n",
    "    print(\"\\nOUTPUT:\")\n",
    "    print(Flag)\n",
    "    \n",
    "except Exception as e:\n",
    "    print(e,\"---Error!!\")"
   ]
  },
  {
   "cell_type": "markdown",
   "id": "f3f3a574",
   "metadata": {},
   "source": [
    "Question 4.Given the side length x find the area of a hexagon."
   ]
  },
  {
   "cell_type": "code",
   "execution_count": 7,
   "id": "71f5c091",
   "metadata": {},
   "outputs": [],
   "source": [
    "import math\n",
    "def Area_hexagon(x):\n",
    "    Area = (3 * (math.sqrt(3)) * (x**2))/2\n",
    "    return Area"
   ]
  },
  {
   "cell_type": "code",
   "execution_count": 8,
   "id": "244f4b18",
   "metadata": {},
   "outputs": [
    {
     "name": "stdout",
     "output_type": "stream",
     "text": [
      "INPUT:\n",
      "8\n",
      "\n",
      "OUTPUT:\n",
      "166.3\n"
     ]
    }
   ],
   "source": [
    "try:\n",
    "    print(\"INPUT:\")\n",
    "    x = int(input())\n",
    "    Area = Area_hexagon(x)\n",
    "    \n",
    "    print(\"\\nOUTPUT:\")\n",
    "    print(round(Area,1))\n",
    "    \n",
    "except Exception as e:\n",
    "    print(e,\"---Error!!\")"
   ]
  },
  {
   "cell_type": "markdown",
   "id": "2cad27f6",
   "metadata": {},
   "source": [
    "Question 5. Create a function that returns a base-2 (binary) representation of a base-10\n",
    "\n",
    "(decimal) string number. To convert is simple: ((2) means base-2 and (10) means base-10)\n",
    "\n",
    "010101001(2) = 1 + 8 + 32 + 128.\n",
    "\n",
    "Going from right to left, the value of the most right bit is 1, now from that every bit to the left\n",
    "\n",
    "will be x2 the value, value of an 8 bit binary numbers are (256, 128, 64, 32, 16, 8, 4, 2, 1)."
   ]
  },
  {
   "cell_type": "code",
   "execution_count": 9,
   "id": "fc4a3537",
   "metadata": {},
   "outputs": [],
   "source": [
    "def decimalToBinary(n):\n",
    "    return bin(n).replace(\"0b\", \"\")"
   ]
  },
  {
   "cell_type": "code",
   "execution_count": 10,
   "id": "f1a1bbf8",
   "metadata": {},
   "outputs": [
    {
     "name": "stdout",
     "output_type": "stream",
     "text": [
      "INPUT:\n",
      "1000\n",
      "\n",
      "OUTPUT:\n",
      "1111101000\n"
     ]
    }
   ],
   "source": [
    "try:\n",
    "    print(\"INPUT:\")\n",
    "    n = int(input())\n",
    "    Binary = decimalToBinary(n)\n",
    "    \n",
    "    print(\"\\nOUTPUT:\")\n",
    "    print(Binary)\n",
    "    \n",
    "except Exception as e:\n",
    "    print(e,\"---Error!!\")"
   ]
  }
 ],
 "metadata": {
  "kernelspec": {
   "display_name": "Python 3 (ipykernel)",
   "language": "python",
   "name": "python3"
  },
  "language_info": {
   "codemirror_mode": {
    "name": "ipython",
    "version": 3
   },
   "file_extension": ".py",
   "mimetype": "text/x-python",
   "name": "python",
   "nbconvert_exporter": "python",
   "pygments_lexer": "ipython3",
   "version": "3.9.7"
  }
 },
 "nbformat": 4,
 "nbformat_minor": 5
}
