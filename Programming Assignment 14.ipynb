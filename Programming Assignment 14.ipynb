{
 "cells": [
  {
   "cell_type": "markdown",
   "id": "df8fd5c9",
   "metadata": {},
   "source": [
    "Question 1:\n",
    "Define a class with a generator which can iterate the numbers, which are divisible by\n",
    "\n",
    "7, between a given range 0 and n."
   ]
  },
  {
   "cell_type": "code",
   "execution_count": 1,
   "id": "e11d2313",
   "metadata": {},
   "outputs": [],
   "source": [
    "class Divisibility():\n",
    "    def __init__(self,n):\n",
    "        self.n = n\n",
    "        \n",
    "    def Check(self):\n",
    "        for i in range(1,self.n + 1):\n",
    "            if i%7 == 0:\n",
    "                yield i\n",
    "                \n",
    "    def Itrator(self):\n",
    "        l = []\n",
    "        for i in self.Check():\n",
    "            l.append(i)\n",
    "            \n",
    "        l = iter(l)\n",
    "        return l\n",
    "       "
   ]
  },
  {
   "cell_type": "code",
   "execution_count": 2,
   "id": "c70478a4",
   "metadata": {},
   "outputs": [
    {
     "name": "stdout",
     "output_type": "stream",
     "text": [
      "200\n"
     ]
    }
   ],
   "source": [
    "try:\n",
    "    n = int(input())\n",
    "    S = Divisibility(n)\n",
    "    Itrator_object = S.Itrator()\n",
    "    \n",
    "except Exception as e:\n",
    "    print(e,\"----Error!!\")\n",
    "    "
   ]
  },
  {
   "cell_type": "code",
   "execution_count": 3,
   "id": "7b815afa",
   "metadata": {},
   "outputs": [
    {
     "name": "stdout",
     "output_type": "stream",
     "text": [
      "7\n",
      "14\n",
      "21\n",
      "28\n",
      "35\n",
      "42\n",
      "49\n",
      "56\n",
      "63\n",
      "70\n",
      "77\n",
      "84\n",
      "91\n",
      "98\n",
      "105\n",
      "112\n",
      "119\n",
      "126\n",
      "133\n",
      "140\n",
      "147\n",
      "154\n",
      "161\n",
      "168\n",
      "175\n",
      "182\n",
      "189\n",
      "196\n"
     ]
    }
   ],
   "source": [
    "for i in Itrator_object:\n",
    "    print(i)"
   ]
  },
  {
   "cell_type": "markdown",
   "id": "4bddfa64",
   "metadata": {},
   "source": [
    "Question 2:\n",
    "Write a program to compute the frequency of the words from the input. The output\n",
    "\n",
    "should output after sorting the key alphanumerically."
   ]
  },
  {
   "cell_type": "code",
   "execution_count": 4,
   "id": "f0dbd5fb",
   "metadata": {},
   "outputs": [],
   "source": [
    "def Frequency():\n",
    "    print(\"INPUT:\")\n",
    "    s = input().split(\" \")\n",
    "    s.sort()\n",
    "    d = {}\n",
    "    \n",
    "    for i in s:\n",
    "        count = 0\n",
    "        for j in s:\n",
    "            if i == j:\n",
    "                count +=1\n",
    "        d[i] = count\n",
    "    print(\"\\nOUTPUT:\\n\")   \n",
    "    for key,value in d.items():\n",
    "        print(key,\" : \",value)"
   ]
  },
  {
   "cell_type": "code",
   "execution_count": 5,
   "id": "7dd38ad7",
   "metadata": {},
   "outputs": [
    {
     "name": "stdout",
     "output_type": "stream",
     "text": [
      "INPUT:\n",
      "New to Python or choosing between Python 2 and Python 3? Read Python 2 or Python 3.\n",
      "\n",
      "OUTPUT:\n",
      "\n",
      "2  :  2\n",
      "3.  :  1\n",
      "3?  :  1\n",
      "New  :  1\n",
      "Python  :  5\n",
      "Read  :  1\n",
      "and  :  1\n",
      "between  :  1\n",
      "choosing  :  1\n",
      "or  :  2\n",
      "to  :  1\n"
     ]
    }
   ],
   "source": [
    "Frequency()"
   ]
  },
  {
   "cell_type": "markdown",
   "id": "85b1724c",
   "metadata": {},
   "source": [
    "Question 3:\n",
    "\n",
    "Define a class Person and its two child classes: Male and Female. All classes have a\n",
    "\n",
    "method &quot;getGender&quot; which can print &quot;Male&quot; for Male class and &quot;Female&quot; for Female\n",
    "\n",
    "class."
   ]
  },
  {
   "cell_type": "code",
   "execution_count": 6,
   "id": "24aad584",
   "metadata": {},
   "outputs": [],
   "source": [
    "class Person():\n",
    "    def __init__(self,name):\n",
    "        self.name = name\n",
    "\n",
    "    def get_name(self):\n",
    "        print(self.name)\n",
    "        \n",
    "class Male(Person):\n",
    "    def getGender(self):\n",
    "        print(\"Male\")\n",
    "        \n",
    "class Female(Person):\n",
    "    def getGender(self):\n",
    "        print(\"Female\")\n",
    "        "
   ]
  },
  {
   "cell_type": "code",
   "execution_count": 7,
   "id": "88b53202",
   "metadata": {},
   "outputs": [
    {
     "name": "stdout",
     "output_type": "stream",
     "text": [
      "Ayush\n"
     ]
    }
   ],
   "source": [
    "a = Male(\"Ayush\")\n",
    "a.get_name()"
   ]
  },
  {
   "cell_type": "code",
   "execution_count": 8,
   "id": "4ed8fa9f",
   "metadata": {},
   "outputs": [
    {
     "name": "stdout",
     "output_type": "stream",
     "text": [
      "Male\n"
     ]
    }
   ],
   "source": [
    "a.getGender()"
   ]
  },
  {
   "cell_type": "code",
   "execution_count": 9,
   "id": "f0ded983",
   "metadata": {},
   "outputs": [
    {
     "name": "stdout",
     "output_type": "stream",
     "text": [
      "Pooja\n"
     ]
    }
   ],
   "source": [
    "b = Female(\"Pooja\")\n",
    "b.get_name()"
   ]
  },
  {
   "cell_type": "code",
   "execution_count": 10,
   "id": "b9a6efc2",
   "metadata": {},
   "outputs": [
    {
     "name": "stdout",
     "output_type": "stream",
     "text": [
      "Female\n"
     ]
    }
   ],
   "source": [
    "b.getGender()"
   ]
  },
  {
   "cell_type": "markdown",
   "id": "3534d488",
   "metadata": {},
   "source": [
    "Question 4:\n",
    "\n",
    "Please write a program to generate all sentences where subject is in [&quot;I&quot;, &quot;You&quot;] and\n",
    "\n",
    "verb is in [&quot;Play&quot;, &quot;Love&quot;] and the object is in [&quot;Hockey&quot;,&quot;Football&quot;]."
   ]
  },
  {
   "cell_type": "code",
   "execution_count": 11,
   "id": "22871171",
   "metadata": {},
   "outputs": [],
   "source": [
    "def Generate():\n",
    "    sub = [\"I\", \"You\"] \n",
    "    verb =  [\"Play\", \"Love\"] \n",
    "    obj = [\"Hockey\",\"Football\"]\n",
    "    \n",
    "    print(\"\\nOUTPUT:\")\n",
    "    for i in sub:\n",
    "        for j in verb:\n",
    "            for k in obj:\n",
    "                print(i,\" \",j,\" \",k)\n",
    "                "
   ]
  },
  {
   "cell_type": "code",
   "execution_count": 12,
   "id": "31d1c5cd",
   "metadata": {},
   "outputs": [
    {
     "name": "stdout",
     "output_type": "stream",
     "text": [
      "\n",
      "OUTPUT:\n",
      "I   Play   Hockey\n",
      "I   Play   Football\n",
      "I   Love   Hockey\n",
      "I   Love   Football\n",
      "You   Play   Hockey\n",
      "You   Play   Football\n",
      "You   Love   Hockey\n",
      "You   Love   Football\n"
     ]
    }
   ],
   "source": [
    "Generate()"
   ]
  },
  {
   "cell_type": "markdown",
   "id": "f426f3ab",
   "metadata": {},
   "source": [
    "Question 5:\n",
    "Please write a program to compress and decompress the string &quot;hello world!hello\n",
    "\n",
    "world!hello world!hello world!&quot;."
   ]
  },
  {
   "cell_type": "code",
   "execution_count": 13,
   "id": "403bfd94",
   "metadata": {},
   "outputs": [],
   "source": [
    "import gzip\n",
    "def Compress_Decompress():\n",
    "    s = b'hello world!hello world!hello world!hello world!'\n",
    "    s = gzip.compress(s)\n",
    "    print(\"COMPRESSED:\\n\",s)\n",
    "    \n",
    "    d = gzip.decompress(s)\n",
    "    print(\"\\nDECOMPRESSED:\\n\",d)\n",
    "    \n"
   ]
  },
  {
   "cell_type": "code",
   "execution_count": 14,
   "id": "d87d6b8c",
   "metadata": {},
   "outputs": [
    {
     "name": "stdout",
     "output_type": "stream",
     "text": [
      "COMPRESSED:\n",
      " b'\\x1f\\x8b\\x08\\x001\\x89_d\\x02\\xff\\xcbH\\xcd\\xc9\\xc9W(\\xcf/\\xcaIQ\\xcc \\x82\\r\\x00\\xd3\\xe6\\xcf\\xae0\\x00\\x00\\x00'\n",
      "\n",
      "DECOMPRESSED:\n",
      " b'hello world!hello world!hello world!hello world!'\n"
     ]
    }
   ],
   "source": [
    "Compress_Decompress()"
   ]
  },
  {
   "cell_type": "markdown",
   "id": "9de59418",
   "metadata": {},
   "source": [
    "Question 6:\n",
    "Please write a binary search function which searches an item in a sorted list. The\n",
    "\n",
    "function should return the index of element to be searched in the list."
   ]
  },
  {
   "cell_type": "code",
   "execution_count": 15,
   "id": "b4b29b15",
   "metadata": {},
   "outputs": [],
   "source": [
    "def Binary_search(a,key,upper,lower):\n",
    "    if upper >= lower:\n",
    "        l = int((upper+lower)/2)\n",
    "        if key == a[l]:\n",
    "            return l\n",
    "            \n",
    "        elif key < a[l]:\n",
    "            upper = l - 1\n",
    "            return Binary_search(a,key,upper,lower)\n",
    "        \n",
    "        else:\n",
    "            lower = l + 1\n",
    "            return Binary_search(a,key,upper,lower)\n",
    "        \n",
    "    else:\n",
    "        return -1"
   ]
  },
  {
   "cell_type": "code",
   "execution_count": 16,
   "id": "ef59728a",
   "metadata": {},
   "outputs": [
    {
     "name": "stdout",
     "output_type": "stream",
     "text": [
      "18,1,56,8,9,2,3\n",
      "8\n"
     ]
    }
   ],
   "source": [
    "try:\n",
    "    S = input().split(\",\")\n",
    "    key = int(input())\n",
    "    L = []\n",
    "    for i in S:\n",
    "        L.append(int(i))\n",
    "    L.sort()\n",
    "    \n",
    "    index = Binary_search(L,key,len(S)-1,0)\n",
    "    \n",
    "except Exception as e:\n",
    "    print(e,\"----Error!!\")"
   ]
  },
  {
   "cell_type": "code",
   "execution_count": 17,
   "id": "59baa021",
   "metadata": {},
   "outputs": [
    {
     "data": {
      "text/plain": [
       "3"
      ]
     },
     "execution_count": 17,
     "metadata": {},
     "output_type": "execute_result"
    }
   ],
   "source": [
    "index"
   ]
  }
 ],
 "metadata": {
  "kernelspec": {
   "display_name": "Python 3 (ipykernel)",
   "language": "python",
   "name": "python3"
  },
  "language_info": {
   "codemirror_mode": {
    "name": "ipython",
    "version": 3
   },
   "file_extension": ".py",
   "mimetype": "text/x-python",
   "name": "python",
   "nbconvert_exporter": "python",
   "pygments_lexer": "ipython3",
   "version": "3.9.7"
  }
 },
 "nbformat": 4,
 "nbformat_minor": 5
}
