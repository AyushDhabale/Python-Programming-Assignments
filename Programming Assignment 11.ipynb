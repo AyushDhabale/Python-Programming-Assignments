{
 "cells": [
  {
   "cell_type": "markdown",
   "id": "a768972f",
   "metadata": {},
   "source": [
    "1.Write a Python program to find words which are greater than given length k?"
   ]
  },
  {
   "cell_type": "code",
   "execution_count": 1,
   "id": "3028bc61",
   "metadata": {},
   "outputs": [],
   "source": [
    "def Specific_length(a,k):\n",
    "    temp = []\n",
    "    for i in a:\n",
    "        if len(i) > k:\n",
    "            temp.append(i)\n",
    "            \n",
    "    return temp"
   ]
  },
  {
   "cell_type": "code",
   "execution_count": 2,
   "id": "b3c40149",
   "metadata": {},
   "outputs": [
    {
     "name": "stdout",
     "output_type": "stream",
     "text": [
      "5\n"
     ]
    }
   ],
   "source": [
    "try:\n",
    "    a = [\"ineuron\",\"notebook\",\"jupyter\",\"ayush\",\"data\",\"science\"]\n",
    "    k = int(input())\n",
    "    temp = Specific_length(a,k)\n",
    "    \n",
    "except Exception as e:\n",
    "    print(e,\"----Error!!\")"
   ]
  },
  {
   "cell_type": "code",
   "execution_count": 3,
   "id": "f58ae92e",
   "metadata": {},
   "outputs": [
    {
     "data": {
      "text/plain": [
       "['ineuron', 'notebook', 'jupyter', 'science']"
      ]
     },
     "execution_count": 3,
     "metadata": {},
     "output_type": "execute_result"
    }
   ],
   "source": [
    "temp"
   ]
  },
  {
   "cell_type": "markdown",
   "id": "2c1e32d6",
   "metadata": {},
   "source": [
    "2.Write a Python program for removing i-th character from a string?"
   ]
  },
  {
   "cell_type": "code",
   "execution_count": 4,
   "id": "6438e53f",
   "metadata": {},
   "outputs": [],
   "source": [
    "def Delete_char(s,i):\n",
    "    temp =\"\"\n",
    "    for j in range(len(s)):\n",
    "        if (j+1) == i:\n",
    "            continue\n",
    "        \n",
    "        else:\n",
    "            temp += s[j]\n",
    "    return temp"
   ]
  },
  {
   "cell_type": "code",
   "execution_count": 5,
   "id": "cf3f8487",
   "metadata": {},
   "outputs": [
    {
     "name": "stdout",
     "output_type": "stream",
     "text": [
      "Full stack data science bootcamp\n",
      "5\n"
     ]
    }
   ],
   "source": [
    "try:\n",
    "    s = input()\n",
    "    i = int(input())\n",
    "    temp = Delete_char(s,i)\n",
    "    \n",
    "except Exception as e:\n",
    "    print(e,\"----Error!!\")"
   ]
  },
  {
   "cell_type": "code",
   "execution_count": 6,
   "id": "92c2a6b1",
   "metadata": {},
   "outputs": [
    {
     "data": {
      "text/plain": [
       "'Fullstack data science bootcamp'"
      ]
     },
     "execution_count": 6,
     "metadata": {},
     "output_type": "execute_result"
    }
   ],
   "source": [
    "temp"
   ]
  },
  {
   "cell_type": "markdown",
   "id": "fb436c55",
   "metadata": {},
   "source": [
    "3.Write a Python program to split and join a string?"
   ]
  },
  {
   "cell_type": "code",
   "execution_count": 7,
   "id": "1007cff1",
   "metadata": {},
   "outputs": [],
   "source": [
    "def Split_string(s):\n",
    "    return s.split()\n",
    "\n",
    "def Join_str(s):\n",
    "    return \" \".join(s)"
   ]
  },
  {
   "cell_type": "code",
   "execution_count": 8,
   "id": "be8c4854",
   "metadata": {},
   "outputs": [],
   "source": [
    "try:\n",
    "    a = ['This', 'is', 'my', 'programming', 'assignment']\n",
    "    s = \"This is my programming assignment\"\n",
    "    \n",
    "    a = Join_str(a)\n",
    "    s = Split_string(s)\n",
    "    \n",
    "except Exception as e:\n",
    "    print(e,\"----Error!!\")"
   ]
  },
  {
   "cell_type": "code",
   "execution_count": 9,
   "id": "49f53cd9",
   "metadata": {},
   "outputs": [
    {
     "data": {
      "text/plain": [
       "'This is my programming assignment'"
      ]
     },
     "execution_count": 9,
     "metadata": {},
     "output_type": "execute_result"
    }
   ],
   "source": [
    "a"
   ]
  },
  {
   "cell_type": "code",
   "execution_count": 10,
   "id": "ff588647",
   "metadata": {},
   "outputs": [
    {
     "data": {
      "text/plain": [
       "['This', 'is', 'my', 'programming', 'assignment']"
      ]
     },
     "execution_count": 10,
     "metadata": {},
     "output_type": "execute_result"
    }
   ],
   "source": [
    "s"
   ]
  },
  {
   "cell_type": "markdown",
   "id": "73cbe67c",
   "metadata": {},
   "source": [
    "4.Write a Python to check if a given string is binary string or not?"
   ]
  },
  {
   "cell_type": "code",
   "execution_count": 11,
   "id": "4e339a5c",
   "metadata": {},
   "outputs": [],
   "source": [
    "def Binary(b):\n",
    "    s = [0,1]\n",
    "    Y = \"Given string is a binary string!!\"\n",
    "    N = \"Given string is not a binary string!!\"\n",
    "    for i in b:\n",
    "        if int(i) in s:\n",
    "            continue\n",
    "            \n",
    "        else:\n",
    "            return N\n",
    "            \n",
    "    else:\n",
    "        return Y       "
   ]
  },
  {
   "cell_type": "code",
   "execution_count": 12,
   "id": "3857ca8f",
   "metadata": {},
   "outputs": [
    {
     "name": "stdout",
     "output_type": "stream",
     "text": [
      "10001110010101\n"
     ]
    }
   ],
   "source": [
    "try:\n",
    "    b = input()\n",
    "    result = Binary(b)\n",
    "    \n",
    "except Exception as e:\n",
    "    print(e,\"----Error!!\")"
   ]
  },
  {
   "cell_type": "code",
   "execution_count": 13,
   "id": "e73b5ac2",
   "metadata": {},
   "outputs": [
    {
     "data": {
      "text/plain": [
       "'Given string is a binary string!!'"
      ]
     },
     "execution_count": 13,
     "metadata": {},
     "output_type": "execute_result"
    }
   ],
   "source": [
    "result"
   ]
  },
  {
   "cell_type": "markdown",
   "id": "3cbf519d",
   "metadata": {},
   "source": [
    "5.Write a Python program to find uncommon words from two Strings?"
   ]
  },
  {
   "cell_type": "code",
   "execution_count": 14,
   "id": "5640c581",
   "metadata": {},
   "outputs": [],
   "source": [
    "def Uncommon(a,b):\n",
    "    a = a.split()\n",
    "    b = b.split()\n",
    "    result = []\n",
    "    \n",
    "    for i in a:\n",
    "        if i not in b:\n",
    "            result.append(i)\n",
    "    \n",
    "    for i in b:\n",
    "        if i not in a:\n",
    "            result.append(i)\n",
    "    return result    "
   ]
  },
  {
   "cell_type": "code",
   "execution_count": 15,
   "id": "6055b174",
   "metadata": {},
   "outputs": [
    {
     "name": "stdout",
     "output_type": "stream",
     "text": [
      "This is my programming assignment\n",
      "This is my data science course\n"
     ]
    }
   ],
   "source": [
    "try:\n",
    "    a = input()\n",
    "    b = input()\n",
    "    \n",
    "    result = Uncommon(a,b)\n",
    "    \n",
    "except Exception as e:\n",
    "    print(e,\"----Error!!\")"
   ]
  },
  {
   "cell_type": "code",
   "execution_count": 16,
   "id": "b9df9e16",
   "metadata": {},
   "outputs": [
    {
     "data": {
      "text/plain": [
       "['programming', 'assignment', 'data', 'science', 'course']"
      ]
     },
     "execution_count": 16,
     "metadata": {},
     "output_type": "execute_result"
    }
   ],
   "source": [
    "result"
   ]
  },
  {
   "cell_type": "markdown",
   "id": "e7370cc9",
   "metadata": {},
   "source": [
    "6.Write a Python to find all duplicate characters in string?"
   ]
  },
  {
   "cell_type": "code",
   "execution_count": 17,
   "id": "f5ed9d3d",
   "metadata": {},
   "outputs": [],
   "source": [
    "def Duplicate(s):\n",
    "    l = []\n",
    "    dup = []\n",
    "    for i in s:\n",
    "        if i not in l:\n",
    "            l.append(i)\n",
    "        \n",
    "        else:\n",
    "            if i in dup or i == \" \":\n",
    "                continue\n",
    "            \n",
    "            else:\n",
    "                dup.append(i)\n",
    "            \n",
    "    return dup"
   ]
  },
  {
   "cell_type": "code",
   "execution_count": 18,
   "id": "5b7b5616",
   "metadata": {},
   "outputs": [
    {
     "name": "stdout",
     "output_type": "stream",
     "text": [
      "This is my python basics programming assignment\n"
     ]
    }
   ],
   "source": [
    "try:\n",
    "    s = input()\n",
    "    result = Duplicate(s)\n",
    "    \n",
    "except Exception as e:\n",
    "    print(e,\"----Error!!\")"
   ]
  },
  {
   "cell_type": "code",
   "execution_count": 19,
   "id": "856e21b6",
   "metadata": {},
   "outputs": [
    {
     "data": {
      "text/plain": [
       "['i', 's', 'y', 'h', 'p', 'o', 'r', 'a', 'm', 'n', 'g', 't']"
      ]
     },
     "execution_count": 19,
     "metadata": {},
     "output_type": "execute_result"
    }
   ],
   "source": [
    "result"
   ]
  },
  {
   "cell_type": "markdown",
   "id": "7271b62b",
   "metadata": {},
   "source": [
    "7.Write a Python Program to check if a string contains any special character?"
   ]
  },
  {
   "cell_type": "code",
   "execution_count": 20,
   "id": "5fee99bf",
   "metadata": {},
   "outputs": [],
   "source": [
    "import string\n",
    "def Special(s):\n",
    "    Y = \"Given string have special character!!\"\n",
    "    N = \"Given string doesn't have any special character!!\"\n",
    "    a = list(string.punctuation)\n",
    "    \n",
    "    for i in s:\n",
    "        if i in a:\n",
    "            return Y\n",
    "        \n",
    "    else:\n",
    "        return N"
   ]
  },
  {
   "cell_type": "code",
   "execution_count": 21,
   "id": "4975bb5f",
   "metadata": {},
   "outputs": [
    {
     "name": "stdout",
     "output_type": "stream",
     "text": [
      "This is my python basic's assignment @ineuron!!\n"
     ]
    }
   ],
   "source": [
    "try:\n",
    "    s = input()\n",
    "    result = Special(s)\n",
    "    \n",
    "except Exception as e:\n",
    "    print(e,\"----Error!!\")"
   ]
  },
  {
   "cell_type": "code",
   "execution_count": 22,
   "id": "bd91eca0",
   "metadata": {},
   "outputs": [
    {
     "data": {
      "text/plain": [
       "'Given string have special character!!'"
      ]
     },
     "execution_count": 22,
     "metadata": {},
     "output_type": "execute_result"
    }
   ],
   "source": [
    "result"
   ]
  }
 ],
 "metadata": {
  "kernelspec": {
   "display_name": "Python 3 (ipykernel)",
   "language": "python",
   "name": "python3"
  },
  "language_info": {
   "codemirror_mode": {
    "name": "ipython",
    "version": 3
   },
   "file_extension": ".py",
   "mimetype": "text/x-python",
   "name": "python",
   "nbconvert_exporter": "python",
   "pygments_lexer": "ipython3",
   "version": "3.9.7"
  }
 },
 "nbformat": 4,
 "nbformat_minor": 5
}
