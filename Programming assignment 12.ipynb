{
 "cells": [
  {
   "cell_type": "markdown",
   "id": "e18fad67",
   "metadata": {},
   "source": [
    "1.Write a Python program to Extract Unique values dictionary values?"
   ]
  },
  {
   "cell_type": "code",
   "execution_count": 1,
   "id": "25c1cb51",
   "metadata": {},
   "outputs": [],
   "source": [
    "def Unique_val(d):\n",
    "    l = []\n",
    "    for i in d.values():\n",
    "        if i not in l:\n",
    "            if type(i)==list or type(i)==tuple:\n",
    "                for j in i:\n",
    "                    if j not in l:\n",
    "                        l.append(j)\n",
    "            else:\n",
    "                l.append(i)\n",
    "        \n",
    "        else:\n",
    "            continue\n",
    "    return l"
   ]
  },
  {
   "cell_type": "code",
   "execution_count": 2,
   "id": "c8de157c",
   "metadata": {},
   "outputs": [],
   "source": [
    "try:\n",
    "    d = {1:[1,2,3,4],2:5,3:[2,6,7],4:\"ML/AI\",5:\"NLP\",6:\"ineuron\",7:(1,2,3,4,8,9,10),8:\"ineuron\"}\n",
    "    unique = Unique_val(d)\n",
    "    \n",
    "except Exception as e:\n",
    "    print(e,\"----Error!!\")"
   ]
  },
  {
   "cell_type": "code",
   "execution_count": 3,
   "id": "94a3244b",
   "metadata": {},
   "outputs": [
    {
     "data": {
      "text/plain": [
       "[1, 2, 3, 4, 5, 6, 7, 'ML/AI', 'NLP', 'ineuron', 8, 9, 10]"
      ]
     },
     "execution_count": 3,
     "metadata": {},
     "output_type": "execute_result"
    }
   ],
   "source": [
    "unique"
   ]
  },
  {
   "cell_type": "markdown",
   "id": "bb95e937",
   "metadata": {},
   "source": [
    "2.Write a Python program to find the sum of all items in a dictionary?"
   ]
  },
  {
   "cell_type": "code",
   "execution_count": 4,
   "id": "61e60ed2",
   "metadata": {},
   "outputs": [],
   "source": [
    "def Sum_items(d):\n",
    "    result = ()\n",
    "    for i in d.items():\n",
    "        result += i\n",
    "        \n",
    "    return result"
   ]
  },
  {
   "cell_type": "code",
   "execution_count": 5,
   "id": "e581d81c",
   "metadata": {},
   "outputs": [],
   "source": [
    "try:\n",
    "    d = {1:[1,2,3,4],2:5,3:[2,6,7],4:\"ML/AI\",5:\"NLP\",6:\"ineuron\",7:(1,2,3,4,8,9,10),8:\"ineuron\"}\n",
    "    \n",
    "    result = Sum_items(d)\n",
    "    \n",
    "except Exception as e:\n",
    "    print(e,\"----Error!!\")"
   ]
  },
  {
   "cell_type": "code",
   "execution_count": 6,
   "id": "3e6c6bf8",
   "metadata": {},
   "outputs": [
    {
     "data": {
      "text/plain": [
       "(1,\n",
       " [1, 2, 3, 4],\n",
       " 2,\n",
       " 5,\n",
       " 3,\n",
       " [2, 6, 7],\n",
       " 4,\n",
       " 'ML/AI',\n",
       " 5,\n",
       " 'NLP',\n",
       " 6,\n",
       " 'ineuron',\n",
       " 7,\n",
       " (1, 2, 3, 4, 8, 9, 10),\n",
       " 8,\n",
       " 'ineuron')"
      ]
     },
     "execution_count": 6,
     "metadata": {},
     "output_type": "execute_result"
    }
   ],
   "source": [
    "result"
   ]
  },
  {
   "cell_type": "markdown",
   "id": "c9afe01b",
   "metadata": {},
   "source": [
    "3.Write a Python program to Merging two Dictionaries?"
   ]
  },
  {
   "cell_type": "code",
   "execution_count": 7,
   "id": "3b96ad19",
   "metadata": {},
   "outputs": [],
   "source": [
    "def Merge(d1,d2):\n",
    "    return d1 | d2"
   ]
  },
  {
   "cell_type": "code",
   "execution_count": 8,
   "id": "1dfadff3",
   "metadata": {},
   "outputs": [],
   "source": [
    "try:\n",
    "    d1 = {1:[1,2,3,4],2:5,3:[2,6,7],4:\"ML/AI\",5:\"NLP\",6:\"ineuron\",7:(1,2,3,4,8,9,10),8:\"ineuron\"}\n",
    "    d2 = {9:\"program\",10:\"bootcamp\",1:\"ineuronAI\"}\n",
    "    \n",
    "    result = Merge(d1,d2)\n",
    "    \n",
    "except Exception as e:\n",
    "    print(e,\"----Error!!\")"
   ]
  },
  {
   "cell_type": "code",
   "execution_count": 9,
   "id": "b0adafec",
   "metadata": {},
   "outputs": [
    {
     "data": {
      "text/plain": [
       "{1: 'ineuronAI',\n",
       " 2: 5,\n",
       " 3: [2, 6, 7],\n",
       " 4: 'ML/AI',\n",
       " 5: 'NLP',\n",
       " 6: 'ineuron',\n",
       " 7: (1, 2, 3, 4, 8, 9, 10),\n",
       " 8: 'ineuron',\n",
       " 9: 'program',\n",
       " 10: 'bootcamp'}"
      ]
     },
     "execution_count": 9,
     "metadata": {},
     "output_type": "execute_result"
    }
   ],
   "source": [
    "result"
   ]
  },
  {
   "cell_type": "markdown",
   "id": "17cec888",
   "metadata": {},
   "source": [
    "4.Write a Python program to convert key-values list to flat dictionary?"
   ]
  },
  {
   "cell_type": "code",
   "execution_count": 10,
   "id": "6b4b297f",
   "metadata": {},
   "outputs": [],
   "source": [
    "def Flat_dict(d,key1,key2):\n",
    "    result = dict(zip(d[key1],d[key2]))\n",
    "    return result"
   ]
  },
  {
   "cell_type": "code",
   "execution_count": 11,
   "id": "4cbd8494",
   "metadata": {},
   "outputs": [],
   "source": [
    "try:\n",
    "    d = {'language' : ['python', 'java', 'c/c++', 'javascript'], 'year' : [1991, 1995, 1980, 1995]}\n",
    "    k = list(d.keys())\n",
    "    key1 = k[0]\n",
    "    key2 = k[1]\n",
    "    \n",
    "    result = Flat_dict(d,key1,key2)\n",
    "\n",
    "except Exception as e:\n",
    "    print(e,\"----Error!!\")"
   ]
  },
  {
   "cell_type": "code",
   "execution_count": 12,
   "id": "97f655cf",
   "metadata": {},
   "outputs": [
    {
     "data": {
      "text/plain": [
       "{'python': 1991, 'java': 1995, 'c/c++': 1980, 'javascript': 1995}"
      ]
     },
     "execution_count": 12,
     "metadata": {},
     "output_type": "execute_result"
    }
   ],
   "source": [
    "result"
   ]
  },
  {
   "cell_type": "markdown",
   "id": "2d980ada",
   "metadata": {},
   "source": [
    "5.Write a Python program to insertion at the beginning in OrderedDict?"
   ]
  },
  {
   "cell_type": "code",
   "execution_count": 13,
   "id": "6ed3d2fd",
   "metadata": {},
   "outputs": [],
   "source": [
    "def Insert_beg(d,key,value):\n",
    "    temp = {}\n",
    "    temp[key] = value \n",
    "    temp.update(d)\n",
    "    \n",
    "    return temp"
   ]
  },
  {
   "cell_type": "code",
   "execution_count": 14,
   "id": "472eca07",
   "metadata": {},
   "outputs": [
    {
     "name": "stdout",
     "output_type": "stream",
     "text": [
      "field\n",
      "Data Science,Android Development,Game Development,Web Development\n"
     ]
    }
   ],
   "source": [
    "try:\n",
    "    d = {'language' : ['python', 'java', 'c/c++', 'javascript'], 'year' : [1991, 1995, 1980, 1995]}\n",
    "    key = input()\n",
    "    value= input().split(',')\n",
    "    \n",
    "    d = Insert_beg(d,key,value)\n",
    "\n",
    "except Exception as e:\n",
    "    print(e,\"----Error!!\")"
   ]
  },
  {
   "cell_type": "code",
   "execution_count": 15,
   "id": "2b8934a8",
   "metadata": {},
   "outputs": [
    {
     "data": {
      "text/plain": [
       "{'field': ['Data Science',\n",
       "  'Android Development',\n",
       "  'Game Development',\n",
       "  'Web Development'],\n",
       " 'language': ['python', 'java', 'c/c++', 'javascript'],\n",
       " 'year': [1991, 1995, 1980, 1995]}"
      ]
     },
     "execution_count": 15,
     "metadata": {},
     "output_type": "execute_result"
    }
   ],
   "source": [
    "d"
   ]
  },
  {
   "cell_type": "markdown",
   "id": "45ef2ddd",
   "metadata": {},
   "source": [
    "6.Write a Python program to check order of character in string using OrderedDict()?"
   ]
  },
  {
   "cell_type": "code",
   "execution_count": 16,
   "id": "a1966d7c",
   "metadata": {},
   "outputs": [],
   "source": [
    "from collections import OrderedDict   \n",
    "def char_ord(s,p):\n",
    "    Y = \"Given oder is correct!!\"\n",
    "    N = \"Given order is not correct!!\"\n",
    "    \n",
    "    Dict = OrderedDict.fromkeys(s)\n",
    "    count = 0\n",
    "    for key,value in Dict.items():\n",
    "        if key == p[count]:\n",
    "            count += 1\n",
    "        \n",
    "        if count == len(p):\n",
    "            return Y\n",
    "        \n",
    "    return N"
   ]
  },
  {
   "cell_type": "code",
   "execution_count": 17,
   "id": "6f0c8583",
   "metadata": {},
   "outputs": [
    {
     "name": "stdout",
     "output_type": "stream",
     "text": [
      "Full Stack Data Science Bootcamp\n",
      "tack\n"
     ]
    }
   ],
   "source": [
    "try:\n",
    "    s = input()\n",
    "    p = input()\n",
    "    \n",
    "    result = char_ord(s,p)\n",
    "    \n",
    "except Exception as e:\n",
    "    print(e,\"----Error!!\")"
   ]
  },
  {
   "cell_type": "code",
   "execution_count": 18,
   "id": "4ecc123b",
   "metadata": {},
   "outputs": [
    {
     "data": {
      "text/plain": [
       "'Given oder is correct!!'"
      ]
     },
     "execution_count": 18,
     "metadata": {},
     "output_type": "execute_result"
    }
   ],
   "source": [
    "result"
   ]
  },
  {
   "cell_type": "raw",
   "id": "fbe22c4d",
   "metadata": {},
   "source": [
    "7.Write a Python program to sort Python Dictionaries by Key or Value?"
   ]
  },
  {
   "cell_type": "code",
   "execution_count": 19,
   "id": "02b065f0",
   "metadata": {},
   "outputs": [],
   "source": [
    "def Sort_dict_key(d):\n",
    "    key = list(d.keys())\n",
    "    key.sort()\n",
    "    temp = {}\n",
    "    \n",
    "    for i in range(len(key)):\n",
    "        temp[key[i]] = d[key[i]]\n",
    "        \n",
    "    return temp\n",
    "\n",
    "def Get_key(d,a):\n",
    "    for i,j in d.items():\n",
    "        if j == a:\n",
    "            return i\n",
    "        \n",
    "    \n",
    "def Sort_dict_values(d):\n",
    "    value = list(d.values())\n",
    "    value.sort()\n",
    "    temp = {}\n",
    "    \n",
    "    for i in range(len(value)):\n",
    "        temp[Get_key(d,value[i])] = value[i]\n",
    "        \n",
    "    return temp\n",
    "        "
   ]
  },
  {
   "cell_type": "code",
   "execution_count": 20,
   "id": "a1b7fc3e",
   "metadata": {},
   "outputs": [],
   "source": [
    "try:\n",
    "    d = {1:\"Data\",5:\"Science\",4:\"Ayush\",3:\"Bootcamp\"}\n",
    "    d1 = Sort_dict_key(d)\n",
    "    d2 = Sort_dict_values(d)\n",
    "    \n",
    "except Exception as e:\n",
    "    print(e,\"----Error!!\")"
   ]
  },
  {
   "cell_type": "code",
   "execution_count": 21,
   "id": "444279ce",
   "metadata": {},
   "outputs": [
    {
     "data": {
      "text/plain": [
       "{1: 'Data', 3: 'Bootcamp', 4: 'Ayush', 5: 'Science'}"
      ]
     },
     "execution_count": 21,
     "metadata": {},
     "output_type": "execute_result"
    }
   ],
   "source": [
    "d1"
   ]
  },
  {
   "cell_type": "code",
   "execution_count": 22,
   "id": "683018d5",
   "metadata": {},
   "outputs": [
    {
     "data": {
      "text/plain": [
       "{4: 'Ayush', 3: 'Bootcamp', 1: 'Data', 5: 'Science'}"
      ]
     },
     "execution_count": 22,
     "metadata": {},
     "output_type": "execute_result"
    }
   ],
   "source": [
    "d2"
   ]
  }
 ],
 "metadata": {
  "kernelspec": {
   "display_name": "Python 3 (ipykernel)",
   "language": "python",
   "name": "python3"
  },
  "language_info": {
   "codemirror_mode": {
    "name": "ipython",
    "version": 3
   },
   "file_extension": ".py",
   "mimetype": "text/x-python",
   "name": "python",
   "nbconvert_exporter": "python",
   "pygments_lexer": "ipython3",
   "version": "3.9.7"
  }
 },
 "nbformat": 4,
 "nbformat_minor": 5
}
