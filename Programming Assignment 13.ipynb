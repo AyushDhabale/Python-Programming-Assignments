{
 "cells": [
  {
   "cell_type": "markdown",
   "id": "aa27c672",
   "metadata": {},
   "source": [
    "Question 1:\n",
    "Write a program that calculates and prints the value according to the given formula:\n",
    "\n",
    "Q = Square root of [(2 * C * D)/H]\n",
    "\n",
    "C = 50\n",
    "\n",
    "H = 30"
   ]
  },
  {
   "cell_type": "code",
   "execution_count": 1,
   "id": "fb406394",
   "metadata": {},
   "outputs": [],
   "source": [
    "import math\n",
    "def Calculate():\n",
    "    print(\"INPUT:\")\n",
    "    D = input().split(',')\n",
    "    C = 50\n",
    "    H = 30\n",
    "    temp = []\n",
    "    output = \"\"\n",
    "\n",
    "    for i in D:\n",
    "        Q = int(math.sqrt((2*C*int(i))/H))\n",
    "        temp.append(Q)\n",
    "    for i in str(temp):\n",
    "        if i == '[' or i == ']':\n",
    "            continue\n",
    "        \n",
    "        else:\n",
    "            output += i\n",
    "    print(\"\\nOUTPUT:\")\n",
    "    print(output)"
   ]
  },
  {
   "cell_type": "code",
   "execution_count": 2,
   "id": "456c5787",
   "metadata": {
    "scrolled": true
   },
   "outputs": [
    {
     "name": "stdout",
     "output_type": "stream",
     "text": [
      "INPUT:\n",
      "100,150,180\n",
      "\n",
      "OUTPUT:\n",
      "18, 22, 24\n"
     ]
    }
   ],
   "source": [
    "Output = Calculate()"
   ]
  },
  {
   "cell_type": "markdown",
   "id": "e2e8c34d",
   "metadata": {},
   "source": [
    "Question 2:\n",
    "Write a program which takes 2 digits, X,Y as input and generates a 2-dimensional array. The\n",
    "\n",
    "element value in the i-th row and j-th column of the array should be i*j.\n",
    "\n",
    "Note: i=0,1.., X-1; j=0,1,¡Y-1."
   ]
  },
  {
   "cell_type": "code",
   "execution_count": 3,
   "id": "9cc79e8d",
   "metadata": {},
   "outputs": [],
   "source": [
    "def Array_2D():\n",
    "    print(\"INPUT:\")\n",
    "    s = input().split(',')\n",
    "    X = int(s[0])\n",
    "    Y = int(s[1])\n",
    "    \n",
    "    A = []\n",
    "    for i in range(X):\n",
    "        col = []\n",
    "        for j in range(Y):\n",
    "            col.append(i*j)\n",
    "        A.append(col)\n",
    "    print(\"\\nOUtPUT:\")\n",
    "    print(A)"
   ]
  },
  {
   "cell_type": "code",
   "execution_count": 4,
   "id": "63683e08",
   "metadata": {},
   "outputs": [
    {
     "name": "stdout",
     "output_type": "stream",
     "text": [
      "INPUT:\n",
      "3,5\n",
      "\n",
      "OUtPUT:\n",
      "[[0, 0, 0, 0, 0], [0, 1, 2, 3, 4], [0, 2, 4, 6, 8]]\n"
     ]
    }
   ],
   "source": [
    "Array_2D()"
   ]
  },
  {
   "cell_type": "markdown",
   "id": "dce11f66",
   "metadata": {},
   "source": [
    "Question 3:\n",
    "Write a program that accepts a comma separated sequence of words as input and prints the\n",
    "\n",
    "words in a comma-separated sequence after sorting them alphabetically."
   ]
  },
  {
   "cell_type": "code",
   "execution_count": 5,
   "id": "82e065c9",
   "metadata": {},
   "outputs": [],
   "source": [
    "def Sort():\n",
    "    print(\"INPUT:\")\n",
    "    S = input().split(',')\n",
    "    S.sort()\n",
    "    SortedWords = \"\"\n",
    "    \n",
    "    for i in range(len(S)):\n",
    "        if i == len(S) - 1:\n",
    "             SortedWords += str(S[i])\n",
    "        else:\n",
    "            SortedWords += str(S[i]) + ','\n",
    "    print(\"\\nOUTPUT:\")        \n",
    "    print(SortedWords)\n",
    "        "
   ]
  },
  {
   "cell_type": "code",
   "execution_count": 6,
   "id": "0446267b",
   "metadata": {},
   "outputs": [
    {
     "name": "stdout",
     "output_type": "stream",
     "text": [
      "INPUT:\n",
      "data,bags,science,ineuron,machine learning\n",
      "\n",
      "OUTPUT:\n",
      "bags,data,ineuron,machine learning,science\n"
     ]
    }
   ],
   "source": [
    "Sort()"
   ]
  },
  {
   "cell_type": "markdown",
   "id": "99de7d96",
   "metadata": {},
   "source": [
    "Question 4:\n",
    "Write a program that accepts a sequence of whitespace separated words as input and prints\n",
    "\n",
    "the words after removing all duplicate words and sorting them alphanumerically."
   ]
  },
  {
   "cell_type": "code",
   "execution_count": 9,
   "id": "8967191b",
   "metadata": {},
   "outputs": [],
   "source": [
    "def Alphanumeric_sort():\n",
    "    print(\"INPUT:\")\n",
    "    s = input().split(\" \")\n",
    "    temp=[]\n",
    "    for i in s:\n",
    "        if i not in temp:\n",
    "            temp.append(i)\n",
    "    temp.sort()\n",
    "    print(\"\\nOUTPUT:\")\n",
    "    for i in temp:\n",
    "        print(i,end=\" \")"
   ]
  },
  {
   "cell_type": "code",
   "execution_count": 10,
   "id": "f8336ae5",
   "metadata": {},
   "outputs": [
    {
     "name": "stdout",
     "output_type": "stream",
     "text": [
      "INPUT:\n",
      "hello world and practice makes perfect and hello world again\n",
      "\n",
      "OUTPUT:\n",
      "again and hello makes perfect practice world "
     ]
    }
   ],
   "source": [
    "Alphanumeric_sort()"
   ]
  },
  {
   "cell_type": "markdown",
   "id": "3e4f6f8a",
   "metadata": {},
   "source": [
    "Question 5:\n",
    "\n",
    "Write a program that accepts a sentence and calculate the number of letters and digits."
   ]
  },
  {
   "cell_type": "code",
   "execution_count": 11,
   "id": "c89b8490",
   "metadata": {},
   "outputs": [],
   "source": [
    "def Counter():\n",
    "    print(\"INPUT:\")\n",
    "    s = input()\n",
    "    s = s.upper()\n",
    "    count1 = 0\n",
    "    count2 = 0\n",
    "    \n",
    "    for i in s:\n",
    "        if ord(i) in range(48,58):\n",
    "            count1 +=1\n",
    "        \n",
    "        elif ord(i) in range(65,91):\n",
    "            count2 +=1\n",
    "    print(\"\\nOUTPUT:\")       \n",
    "    print(\"\\nLETTERS \",count2)\n",
    "    print(\"DIGITS \",count1)"
   ]
  },
  {
   "cell_type": "code",
   "execution_count": 12,
   "id": "59c45a9d",
   "metadata": {},
   "outputs": [
    {
     "name": "stdout",
     "output_type": "stream",
     "text": [
      "INPUT:\n",
      "hello world! 123\n",
      "\n",
      "OUTPUT:\n",
      "\n",
      "LETTERS  10\n",
      "DIGITS  3\n"
     ]
    }
   ],
   "source": [
    "Counter()"
   ]
  },
  {
   "cell_type": "markdown",
   "id": "28507498",
   "metadata": {},
   "source": [
    "Question 6:\n",
    "A website requires the users to input username and password to register. Write a program to\n",
    "\n",
    "check the validity of password input by users."
   ]
  },
  {
   "cell_type": "code",
   "execution_count": 13,
   "id": "e5e486d4",
   "metadata": {},
   "outputs": [],
   "source": [
    "def Validity():\n",
    "    print(\"INPUT:\")\n",
    "    s = input().split(',')\n",
    "    Char = ['@','$','#']\n",
    "    l,u,n,c = 0,0,0,0\n",
    "    \n",
    "    for i in s:\n",
    "        if len(i) in range(6,13):\n",
    "            for j in i:\n",
    "                if (j.islower()):\n",
    "                    l+=1           \n",
    "                if (j.isupper()):\n",
    "                    u+=1           \n",
    "                if (j.isdigit()):\n",
    "                    n+=1           \n",
    "                if j in Char:\n",
    "                    c+=1\n",
    "            if (l>=1 and u>=1 and c>=1 and n>=1 and l+c+u+n==len(i)):\n",
    "                print(\"\\nOUTPUT:\")\n",
    "                print(i)"
   ]
  },
  {
   "cell_type": "code",
   "execution_count": 14,
   "id": "d0bd66e6",
   "metadata": {},
   "outputs": [
    {
     "name": "stdout",
     "output_type": "stream",
     "text": [
      "INPUT:\n",
      "ABd1234@1,a F1#,2w3E*,2We3345\n",
      "\n",
      "OUTPUT:\n",
      "ABd1234@1\n"
     ]
    }
   ],
   "source": [
    "Validity()"
   ]
  }
 ],
 "metadata": {
  "kernelspec": {
   "display_name": "Python 3 (ipykernel)",
   "language": "python",
   "name": "python3"
  },
  "language_info": {
   "codemirror_mode": {
    "name": "ipython",
    "version": 3
   },
   "file_extension": ".py",
   "mimetype": "text/x-python",
   "name": "python",
   "nbconvert_exporter": "python",
   "pygments_lexer": "ipython3",
   "version": "3.9.7"
  }
 },
 "nbformat": 4,
 "nbformat_minor": 5
}
