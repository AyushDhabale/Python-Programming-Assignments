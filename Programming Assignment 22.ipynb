{
 "cells": [
  {
   "cell_type": "markdown",
   "id": "9c72f3f4",
   "metadata": {},
   "source": [
    "Question1 Create a function that takes three parameters where:\n",
    "\n",
    " x is the start of the range (inclusive).\n",
    "\n",
    " y is the end of the range (inclusive).\n",
    "\n",
    " n is the divisor to be checked against.\n",
    "\n",
    "Return an ordered list with numbers in the range that are divisible by the third parameter n.\n",
    "\n",
    "Return an empty list if there are no numbers that are divisible by n."
   ]
  },
  {
   "cell_type": "code",
   "execution_count": 1,
   "id": "8572e399",
   "metadata": {},
   "outputs": [],
   "source": [
    "def Divisibility(x,y,n):\n",
    "    l = []\n",
    "    if x<y:\n",
    "        for i in range(x,y+1):\n",
    "            if i%n == 0:\n",
    "                l.append(i)\n",
    "                \n",
    "    return l"
   ]
  },
  {
   "cell_type": "code",
   "execution_count": 2,
   "id": "be3c6cbd",
   "metadata": {},
   "outputs": [
    {
     "name": "stdout",
     "output_type": "stream",
     "text": [
      "INPUT:\n",
      "1\n",
      "100\n",
      "9\n",
      "\n",
      "OUTPUT:\n",
      "[9, 18, 27, 36, 45, 54, 63, 72, 81, 90, 99]\n"
     ]
    }
   ],
   "source": [
    "try:\n",
    "    print(\"INPUT:\")\n",
    "    x = int(input())\n",
    "    y = int(input())\n",
    "    n = int(input())\n",
    "    \n",
    "    result = Divisibility(x,y,n)\n",
    "    \n",
    "    print(\"\\nOUTPUT:\")\n",
    "    print(result)\n",
    "    \n",
    "except Exception as e:\n",
    "    print(e,\"----Error!!\")"
   ]
  },
  {
   "cell_type": "markdown",
   "id": "e2b3c636",
   "metadata": {},
   "source": [
    "Question2 Create a function that takes in two lists and returns True if the second list follows the first list\n",
    "\n",
    "by one element, and False otherwise. In other words, determine if the second list is the first\n",
    "\n",
    "list shifted to the right by 1."
   ]
  },
  {
   "cell_type": "code",
   "execution_count": 5,
   "id": "d8c94ee9",
   "metadata": {},
   "outputs": [],
   "source": [
    "def isShifted(l1,l2):\n",
    "    for i in range(len(l1) - 1):\n",
    "        if l1[i] == l2[i+1]:\n",
    "            continue\n",
    "            \n",
    "        else:\n",
    "            return False\n",
    "            \n",
    "    else:\n",
    "        return True"
   ]
  },
  {
   "cell_type": "code",
   "execution_count": 8,
   "id": "281929de",
   "metadata": {},
   "outputs": [
    {
     "name": "stdout",
     "output_type": "stream",
     "text": [
      "INPUT:\n",
      "1,2\n",
      "5,1\n",
      "\n",
      "OUTPUT:\n",
      "True\n"
     ]
    }
   ],
   "source": [
    "try:\n",
    "    print(\"INPUT:\")\n",
    "    l1 = input().split(',')\n",
    "    l2 = input().split(',')\n",
    "    \n",
    "    result = isShifted(l1,l2)\n",
    "    \n",
    "    print(\"\\nOUTPUT:\")\n",
    "    print(result)\n",
    "    \n",
    "except Exception as e:\n",
    "    print(e,\"----Error!!\")"
   ]
  },
  {
   "cell_type": "markdown",
   "id": "ce548ee8",
   "metadata": {},
   "source": [
    "Question3 A group of friends have decided to start a secret society. The name will be the first letter of\n",
    "\n",
    "each of their names, sorted in alphabetical order.\n",
    "\n",
    "Create a function that takes in a list of names and returns the name of the secret society."
   ]
  },
  {
   "cell_type": "code",
   "execution_count": 14,
   "id": "03467ae1",
   "metadata": {},
   "outputs": [],
   "source": [
    "def getName(l):\n",
    "    l.sort()\n",
    "    temp = \"\"\n",
    "    for i in l:\n",
    "        i = i.upper()\n",
    "        temp += i[0]\n",
    "    return temp\n"
   ]
  },
  {
   "cell_type": "code",
   "execution_count": 15,
   "id": "0e0cd4ad",
   "metadata": {},
   "outputs": [
    {
     "name": "stdout",
     "output_type": "stream",
     "text": [
      "INPUT:\n",
      "Phoebe,Chandler,Rachel,Ross,Monica,Joey\n",
      "\n",
      "OUTPUT:\n",
      "CJMPRR\n"
     ]
    }
   ],
   "source": [
    "try:\n",
    "    print(\"INPUT:\")\n",
    "    l = input().split(',')\n",
    "    \n",
    "    result = getName(l)\n",
    "    \n",
    "    print(\"\\nOUTPUT:\")\n",
    "    print(result)\n",
    "    \n",
    "except Exception as e:\n",
    "    print(e,\"----Error!!\")"
   ]
  },
  {
   "cell_type": "markdown",
   "id": "3d5912a0",
   "metadata": {},
   "source": [
    "Question4 An isogram is a word that has no duplicate letters. Create a function that takes a string and\n",
    "\n",
    "returns either True or False depending on whether or not it&#39;s an &quot;isogram&quot;."
   ]
  },
  {
   "cell_type": "code",
   "execution_count": 1,
   "id": "26d38da9",
   "metadata": {},
   "outputs": [],
   "source": [
    "def Isisogram(s):\n",
    "    temp = []\n",
    "    for i in s:\n",
    "        if i not in temp:\n",
    "            temp.append(i)\n",
    "            continue\n",
    "        \n",
    "        else:\n",
    "            return False\n",
    "        \n",
    "    else:\n",
    "        return True"
   ]
  },
  {
   "cell_type": "code",
   "execution_count": 3,
   "id": "ea5d40e9",
   "metadata": {},
   "outputs": [
    {
     "name": "stdout",
     "output_type": "stream",
     "text": [
      "INPUT:\n",
      "Aalgorithm\n",
      "\n",
      "OUTPUT:\n",
      "False\n"
     ]
    }
   ],
   "source": [
    "try:\n",
    "    print(\"INPUT:\")\n",
    "    s = input()\n",
    "    s = s.lower()\n",
    "    \n",
    "    result = Isisogram(s)\n",
    "    \n",
    "    print(\"\\nOUTPUT:\")\n",
    "    print(result)\n",
    "    \n",
    "except Exception as e:\n",
    "    print(e,\"----Error!!\")"
   ]
  },
  {
   "cell_type": "markdown",
   "id": "02c6205f",
   "metadata": {},
   "source": [
    "Question5 Create a function that takes a string and returns True or False, depending on whether the\n",
    "\n",
    "characters are in order or not."
   ]
  },
  {
   "cell_type": "code",
   "execution_count": 15,
   "id": "4808cdc1",
   "metadata": {},
   "outputs": [],
   "source": [
    "def check_order(s):\n",
    "    s = list(s)\n",
    "    temp = s.copy()\n",
    "    s.sort()\n",
    "    \n",
    "    return temp == s"
   ]
  },
  {
   "cell_type": "code",
   "execution_count": 19,
   "id": "92e83c38",
   "metadata": {},
   "outputs": [
    {
     "name": "stdout",
     "output_type": "stream",
     "text": [
      "INPUT:\n",
      "xyzz\n",
      "\n",
      "OUTPUT:\n",
      "True\n"
     ]
    }
   ],
   "source": [
    "try:\n",
    "    print(\"INPUT:\")\n",
    "    s = input()\n",
    "    result = check_order(s)\n",
    "    \n",
    "    print(\"\\nOUTPUT:\")\n",
    "    print(result)\n",
    "    \n",
    "except Exception as e:\n",
    "    print(e,\"----Error!!\")"
   ]
  }
 ],
 "metadata": {
  "kernelspec": {
   "display_name": "Python 3 (ipykernel)",
   "language": "python",
   "name": "python3"
  },
  "language_info": {
   "codemirror_mode": {
    "name": "ipython",
    "version": 3
   },
   "file_extension": ".py",
   "mimetype": "text/x-python",
   "name": "python",
   "nbconvert_exporter": "python",
   "pygments_lexer": "ipython3",
   "version": "3.9.7"
  }
 },
 "nbformat": 4,
 "nbformat_minor": 5
}
