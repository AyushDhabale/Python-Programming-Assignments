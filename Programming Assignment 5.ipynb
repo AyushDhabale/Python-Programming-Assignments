{
 "cells": [
  {
   "cell_type": "markdown",
   "id": "85da99e5",
   "metadata": {},
   "source": [
    "1.Write a Python Program to Find LCM?"
   ]
  },
  {
   "cell_type": "code",
   "execution_count": 1,
   "id": "2bc1cfc1",
   "metadata": {},
   "outputs": [],
   "source": [
    "def LCM(a,b):\n",
    "    m = min(a,b)\n",
    "    gcd = 1\n",
    "    \n",
    "    for i in range(2,m+1):\n",
    "        if a%i == 0 and b%i == 0:\n",
    "            gcd = i\n",
    "            \n",
    "    lcm = a*b/gcd\n",
    "    return int(lcm)\n",
    "            \n",
    "    "
   ]
  },
  {
   "cell_type": "code",
   "execution_count": 2,
   "id": "a998f7ca",
   "metadata": {},
   "outputs": [
    {
     "name": "stdout",
     "output_type": "stream",
     "text": [
      "Enter first number:24\n",
      "Enter second number:94\n"
     ]
    }
   ],
   "source": [
    "try:\n",
    "    a = int(input(\"Enter first number:\"))\n",
    "    b = int(input(\"Enter second number:\"))\n",
    "    lcm = LCM(a,b)\n",
    "    \n",
    "except:\n",
    "    print(\"Error!!\")"
   ]
  },
  {
   "cell_type": "code",
   "execution_count": 3,
   "id": "fe512941",
   "metadata": {},
   "outputs": [
    {
     "data": {
      "text/plain": [
       "1128"
      ]
     },
     "execution_count": 3,
     "metadata": {},
     "output_type": "execute_result"
    }
   ],
   "source": [
    "lcm"
   ]
  },
  {
   "cell_type": "markdown",
   "id": "04dcbc8e",
   "metadata": {},
   "source": [
    "2.Write a Python Program to Find HCF?"
   ]
  },
  {
   "cell_type": "code",
   "execution_count": 4,
   "id": "955106d5",
   "metadata": {},
   "outputs": [],
   "source": [
    "def HCF(a,b):\n",
    "    m = min(a,b)\n",
    "    hcf = 1\n",
    "    \n",
    "    for i in range(2,m+1):\n",
    "        if a%i == 0 and b%i == 0:\n",
    "            hcf = i\n",
    "    return hcf"
   ]
  },
  {
   "cell_type": "code",
   "execution_count": 5,
   "id": "7f3ceb7a",
   "metadata": {},
   "outputs": [
    {
     "name": "stdout",
     "output_type": "stream",
     "text": [
      "Enter first number:48\n",
      "Enter second number:96\n"
     ]
    }
   ],
   "source": [
    "try:\n",
    "    a = int(input(\"Enter first number:\"))\n",
    "    b = int(input(\"Enter second number:\"))\n",
    "    hcf = HCF(a,b)\n",
    "    \n",
    "except:\n",
    "    print(\"Error!!\")"
   ]
  },
  {
   "cell_type": "code",
   "execution_count": 6,
   "id": "b4c5cbae",
   "metadata": {},
   "outputs": [
    {
     "data": {
      "text/plain": [
       "48"
      ]
     },
     "execution_count": 6,
     "metadata": {},
     "output_type": "execute_result"
    }
   ],
   "source": [
    "hcf\n"
   ]
  },
  {
   "cell_type": "markdown",
   "id": "4f57ba05",
   "metadata": {},
   "source": [
    "3.Write a Python Program to Convert Decimal to Binary, Octal and Hexadecimal?"
   ]
  },
  {
   "cell_type": "code",
   "execution_count": 7,
   "id": "60e7c83a",
   "metadata": {},
   "outputs": [],
   "source": [
    "def Dec_bin(a):\n",
    "    s =\"\"\n",
    "    while a>0:\n",
    "        s += str(a%2)\n",
    "        a = int(a/2)\n",
    "        \n",
    "    return s[::-1]  "
   ]
  },
  {
   "cell_type": "code",
   "execution_count": 8,
   "id": "a6891e7b",
   "metadata": {},
   "outputs": [],
   "source": [
    "s= Dec_bin(100)"
   ]
  },
  {
   "cell_type": "code",
   "execution_count": 9,
   "id": "c002b837",
   "metadata": {},
   "outputs": [
    {
     "data": {
      "text/plain": [
       "'1100100'"
      ]
     },
     "execution_count": 9,
     "metadata": {},
     "output_type": "execute_result"
    }
   ],
   "source": [
    "s"
   ]
  },
  {
   "cell_type": "code",
   "execution_count": 10,
   "id": "f228f14b",
   "metadata": {},
   "outputs": [],
   "source": [
    "def Oct_hexa(a):\n",
    "    dec = int(a, 8)\n",
    "    HEX = hex(dec).replace(\"0x\", \"\")\n",
    "    \n",
    "    return HEX.upper()"
   ]
  },
  {
   "cell_type": "code",
   "execution_count": 11,
   "id": "e47f956a",
   "metadata": {},
   "outputs": [
    {
     "name": "stdout",
     "output_type": "stream",
     "text": [
      "Enter a number:306\n"
     ]
    }
   ],
   "source": [
    "a = input(\"Enter a number:\")\n",
    "HEX=Oct_hexa(a)"
   ]
  },
  {
   "cell_type": "code",
   "execution_count": 13,
   "id": "bfa37737",
   "metadata": {},
   "outputs": [
    {
     "data": {
      "text/plain": [
       "'C6'"
      ]
     },
     "execution_count": 13,
     "metadata": {},
     "output_type": "execute_result"
    }
   ],
   "source": [
    "HEX"
   ]
  },
  {
   "cell_type": "markdown",
   "id": "32b95574",
   "metadata": {},
   "source": [
    "4.Write a Python Program To Find ASCII value of a character?"
   ]
  },
  {
   "cell_type": "code",
   "execution_count": 14,
   "id": "e4ca29ce",
   "metadata": {},
   "outputs": [
    {
     "name": "stdout",
     "output_type": "stream",
     "text": [
      "w\n"
     ]
    }
   ],
   "source": [
    "a = input()\n",
    "a = ord(a)"
   ]
  },
  {
   "cell_type": "code",
   "execution_count": 15,
   "id": "4b9f2401",
   "metadata": {},
   "outputs": [
    {
     "data": {
      "text/plain": [
       "119"
      ]
     },
     "execution_count": 15,
     "metadata": {},
     "output_type": "execute_result"
    }
   ],
   "source": [
    "a"
   ]
  },
  {
   "cell_type": "markdown",
   "id": "72d4b6e5",
   "metadata": {},
   "source": [
    "5.Write a Python Program to Make a Simple Calculator with 4 basic mathematical operations?\n"
   ]
  },
  {
   "cell_type": "code",
   "execution_count": 16,
   "id": "8b6b8380",
   "metadata": {},
   "outputs": [],
   "source": [
    "def Calculator():\n",
    "    choice = 'y'\n",
    "    while(choice =='y' or choice =='Y'):\n",
    "        a = int(input(\"Enter first num:\"))\n",
    "        b = int(input(\"Enter second num:\"))\n",
    "        \n",
    "        print(\"\"\"\\n\\nCALCULATOR\n",
    "        Operations available:\n",
    "        1.Addition\n",
    "        2.Substraction\n",
    "        3.Multiplication\n",
    "        4.Division\"\"\")\n",
    "        \n",
    "        num = input(\"\\nEnter the number of operation you want to perform:\")\n",
    "        \n",
    "        if num =='1':\n",
    "            print(a+b)\n",
    "            \n",
    "        elif num == '2':\n",
    "            print(a-b)\n",
    "            \n",
    "        elif num == '3':\n",
    "            print(a*b)\n",
    "            \n",
    "        elif num == '4':\n",
    "            try:\n",
    "                print(a/b)\n",
    "                \n",
    "            except:\n",
    "                print(\"Selected operation is not possible with given pairs of operands!!\")\n",
    "                \n",
    "        else:\n",
    "            print(\"Invaild Selection!!\")\n",
    "            \n",
    "        choice = input(\"Want to continue?y/n:\")\n",
    "        \n",
    "        "
   ]
  },
  {
   "cell_type": "code",
   "execution_count": 17,
   "id": "baf9fe3d",
   "metadata": {},
   "outputs": [
    {
     "name": "stdout",
     "output_type": "stream",
     "text": [
      "Enter first num:5\n",
      "Enter second num:6\n",
      "\n",
      "\n",
      "CALCULATOR\n",
      "        Operations available:\n",
      "        1.Addition\n",
      "        2.Substraction\n",
      "        3.Multiplication\n",
      "        4.Division\n",
      "\n",
      "Enter the number of operation you want to perform:2\n",
      "-1\n",
      "Want to continue?y/n:y\n",
      "Enter first num:8 \n",
      "Enter second num:0\n",
      "\n",
      "\n",
      "CALCULATOR\n",
      "        Operations available:\n",
      "        1.Addition\n",
      "        2.Substraction\n",
      "        3.Multiplication\n",
      "        4.Division\n",
      "\n",
      "Enter the number of operation you want to perform:4\n",
      "Selected operation is not possible with given pairs of operands!!\n",
      "Want to continue?y/n:n\n"
     ]
    }
   ],
   "source": [
    "Calculator()"
   ]
  }
 ],
 "metadata": {
  "kernelspec": {
   "display_name": "Python 3 (ipykernel)",
   "language": "python",
   "name": "python3"
  },
  "language_info": {
   "codemirror_mode": {
    "name": "ipython",
    "version": 3
   },
   "file_extension": ".py",
   "mimetype": "text/x-python",
   "name": "python",
   "nbconvert_exporter": "python",
   "pygments_lexer": "ipython3",
   "version": "3.9.7"
  }
 },
 "nbformat": 4,
 "nbformat_minor": 5
}
