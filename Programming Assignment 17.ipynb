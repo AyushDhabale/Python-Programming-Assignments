{
 "cells": [
  {
   "cell_type": "markdown",
   "id": "bd90bbbc",
   "metadata": {},
   "source": [
    "Question1. Create a function that takes three arguments a, b, c and returns the sum of the\n",
    "\n",
    "numbers that are evenly divided by c from the range a, b inclusive."
   ]
  },
  {
   "cell_type": "code",
   "execution_count": 1,
   "id": "ac5bed70",
   "metadata": {},
   "outputs": [],
   "source": [
    "def Evenly_divisible(a,b,c):\n",
    "    Sum = 0\n",
    "    for i in range(a,b+1):\n",
    "        if i%c == 0:\n",
    "            Sum += i\n",
    "            \n",
    "    return Sum"
   ]
  },
  {
   "cell_type": "code",
   "execution_count": 2,
   "id": "069568ce",
   "metadata": {},
   "outputs": [
    {
     "name": "stdout",
     "output_type": "stream",
     "text": [
      "INPUT:\n",
      "1\n",
      "100\n",
      "6\n",
      "\n",
      "OUTPUT:\n",
      "816\n"
     ]
    }
   ],
   "source": [
    "try:\n",
    "    print(\"INPUT:\")\n",
    "    a = int(input())\n",
    "    b = int(input())\n",
    "    c = int(input())\n",
    "    \n",
    "    Sum = Evenly_divisible(a,b,c)\n",
    "    \n",
    "    print(\"\\nOUTPUT:\")\n",
    "    print(Sum)\n",
    "    \n",
    "except Exception as e:\n",
    "    print(e,\"----Error!!\")"
   ]
  },
  {
   "cell_type": "markdown",
   "id": "35c62c1f",
   "metadata": {},
   "source": [
    "Question2. Create a function that returns True if a given inequality expression is correct and\n",
    "\n",
    "False otherwise."
   ]
  },
  {
   "cell_type": "code",
   "execution_count": 3,
   "id": "26e9dcbd",
   "metadata": {},
   "outputs": [],
   "source": [
    "def check_signs(s):\n",
    "    result = eval(s)\n",
    "    \n",
    "    return result"
   ]
  },
  {
   "cell_type": "code",
   "execution_count": 4,
   "id": "bbc9ae00",
   "metadata": {},
   "outputs": [
    {
     "name": "stdout",
     "output_type": "stream",
     "text": [
      "INPUT:\n",
      "5>4<7\n",
      "\n",
      "OUTPUT:\n",
      "True\n"
     ]
    }
   ],
   "source": [
    "try:\n",
    "    print(\"INPUT:\")\n",
    "    s = input()\n",
    "    \n",
    "    result = check_signs(s)\n",
    "    \n",
    "    print(\"\\nOUTPUT:\")\n",
    "    print(result)\n",
    "    \n",
    "except Exception as e:\n",
    "    print(e,\"----Error!!\")"
   ]
  },
  {
   "cell_type": "markdown",
   "id": "62db3d60",
   "metadata": {},
   "source": [
    "Question3. Create a function that replaces all the vowels in a string with a specified character."
   ]
  },
  {
   "cell_type": "code",
   "execution_count": 5,
   "id": "63d904bb",
   "metadata": {},
   "outputs": [],
   "source": [
    "def replace_Vowels(s,c):\n",
    "    vowels = \"aeiouAEIOU\"\n",
    "    result = \"\"\n",
    "    for i in s:\n",
    "        if i in vowels:\n",
    "            result += c\n",
    "        \n",
    "        else:\n",
    "            result += i\n",
    "    return result"
   ]
  },
  {
   "cell_type": "code",
   "execution_count": 6,
   "id": "29b075a1",
   "metadata": {},
   "outputs": [
    {
     "name": "stdout",
     "output_type": "stream",
     "text": [
      "INPUT:\n",
      "his is Full Stack Data Science Course!!\n",
      "#\n",
      "\n",
      "OUTPUT:\n",
      "h#s #s F#ll St#ck D#t# Sc##nc# C##rs#!!\n"
     ]
    }
   ],
   "source": [
    "try:\n",
    "    print(\"INPUT:\")\n",
    "    s = input()\n",
    "    c = input()\n",
    "    \n",
    "    result = replace_Vowels(s,c)\n",
    "    \n",
    "    print(\"\\nOUTPUT:\")\n",
    "    print(result)\n",
    "    \n",
    "except Exception as e:\n",
    "    print(e,\"----Error!!\")"
   ]
  },
  {
   "cell_type": "markdown",
   "id": "824b6fd4",
   "metadata": {},
   "source": [
    "Question4. Write a function that calculates the factorial of a number recursively."
   ]
  },
  {
   "cell_type": "code",
   "execution_count": 7,
   "id": "62fd08cc",
   "metadata": {},
   "outputs": [],
   "source": [
    "def Factorial(n):\n",
    "    if n == 1 or n == 0:\n",
    "        return 1\n",
    "    else:\n",
    "        return n*Factorial(n-1)"
   ]
  },
  {
   "cell_type": "code",
   "execution_count": 8,
   "id": "085d9fda",
   "metadata": {},
   "outputs": [
    {
     "name": "stdout",
     "output_type": "stream",
     "text": [
      "INPUT:\n",
      "17\n",
      "\n",
      "OUTPUT:\n",
      "355687428096000\n"
     ]
    }
   ],
   "source": [
    "try:\n",
    "    print(\"INPUT:\")\n",
    "    n = int(input())\n",
    "    \n",
    "    result = Factorial(n)\n",
    "    \n",
    "    print(\"\\nOUTPUT:\")\n",
    "    print(result)\n",
    "    \n",
    "except Exception as e:\n",
    "    print(e,\"----Error!!\")"
   ]
  },
  {
   "cell_type": "markdown",
   "id": "255efec9",
   "metadata": {},
   "source": [
    "Question 5\n",
    "Hamming distance is the number of characters that differ between two strings."
   ]
  },
  {
   "cell_type": "code",
   "execution_count": 9,
   "id": "0e66f069",
   "metadata": {},
   "outputs": [],
   "source": [
    "def Hamming_distance(a,b):\n",
    "    dis = 0\n",
    "    for i in range(len(a)):\n",
    "        if a[i] == b[i]:\n",
    "            continue\n",
    "        \n",
    "        else:\n",
    "            dis += 1\n",
    "            \n",
    "    return dis"
   ]
  },
  {
   "cell_type": "code",
   "execution_count": 10,
   "id": "0cf5b5e6",
   "metadata": {},
   "outputs": [
    {
     "name": "stdout",
     "output_type": "stream",
     "text": [
      "INPUT:\n",
      "abcde\n",
      "abcde\n",
      "\n",
      "OUTPUT:\n",
      "0\n"
     ]
    }
   ],
   "source": [
    "try:\n",
    "    print(\"INPUT:\")\n",
    "    a = input()\n",
    "    b = input()\n",
    "    dis = Hamming_distance(a,b)\n",
    "    \n",
    "    print(\"\\nOUTPUT:\")\n",
    "    print(dis)\n",
    "    \n",
    "except Exception as e:\n",
    "    print(e,\"----Error!!\")"
   ]
  }
 ],
 "metadata": {
  "kernelspec": {
   "display_name": "Python 3 (ipykernel)",
   "language": "python",
   "name": "python3"
  },
  "language_info": {
   "codemirror_mode": {
    "name": "ipython",
    "version": 3
   },
   "file_extension": ".py",
   "mimetype": "text/x-python",
   "name": "python",
   "nbconvert_exporter": "python",
   "pygments_lexer": "ipython3",
   "version": "3.9.7"
  }
 },
 "nbformat": 4,
 "nbformat_minor": 5
}
