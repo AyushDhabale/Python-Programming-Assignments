{
 "cells": [
  {
   "cell_type": "markdown",
   "id": "87c66ee0",
   "metadata": {},
   "source": [
    "1.Write a Python program to find sum of elements in list?"
   ]
  },
  {
   "cell_type": "code",
   "execution_count": 1,
   "id": "4b7d81b9",
   "metadata": {},
   "outputs": [],
   "source": [
    "def List_sum(a):\n",
    "    Sum = 0\n",
    "    for i in a:\n",
    "        Sum += i\n",
    "        \n",
    "    return Sum"
   ]
  },
  {
   "cell_type": "code",
   "execution_count": 2,
   "id": "3fa7caf1",
   "metadata": {},
   "outputs": [],
   "source": [
    "try:\n",
    "    a = [1,2,3,5,6]\n",
    "    Sum = List_sum(a)\n",
    "    \n",
    "except Exception as e:\n",
    "    print(e,\"----Error!!\")"
   ]
  },
  {
   "cell_type": "code",
   "execution_count": 3,
   "id": "4e46b5d7",
   "metadata": {},
   "outputs": [
    {
     "data": {
      "text/plain": [
       "17"
      ]
     },
     "execution_count": 3,
     "metadata": {},
     "output_type": "execute_result"
    }
   ],
   "source": [
    "Sum"
   ]
  },
  {
   "cell_type": "markdown",
   "id": "a2aedca3",
   "metadata": {},
   "source": [
    "2.Write a Python program to Multiply all numbers in the list?"
   ]
  },
  {
   "cell_type": "code",
   "execution_count": 4,
   "id": "842783d5",
   "metadata": {},
   "outputs": [],
   "source": [
    "def Multiply(a):\n",
    "    Mul = 1\n",
    "    for i in a:\n",
    "        Mul *= i\n",
    "        \n",
    "    return Mul"
   ]
  },
  {
   "cell_type": "code",
   "execution_count": 5,
   "id": "7833afa4",
   "metadata": {},
   "outputs": [],
   "source": [
    "try:\n",
    "    a = [1,2,3,5,6]\n",
    "    Mul = Multiply(a)\n",
    "    \n",
    "except Exception as e:\n",
    "    print(e,\"----Error!!\")"
   ]
  },
  {
   "cell_type": "code",
   "execution_count": 6,
   "id": "48495e40",
   "metadata": {},
   "outputs": [
    {
     "data": {
      "text/plain": [
       "180"
      ]
     },
     "execution_count": 6,
     "metadata": {},
     "output_type": "execute_result"
    }
   ],
   "source": [
    "Mul"
   ]
  },
  {
   "cell_type": "markdown",
   "id": "6db50016",
   "metadata": {},
   "source": [
    "3.Write a Python program to find smallest number in a list?"
   ]
  },
  {
   "cell_type": "code",
   "execution_count": 7,
   "id": "0e8b8bb3",
   "metadata": {},
   "outputs": [],
   "source": [
    "def Min(a):\n",
    "    return min(a)"
   ]
  },
  {
   "cell_type": "code",
   "execution_count": 8,
   "id": "aef14218",
   "metadata": {},
   "outputs": [],
   "source": [
    "try:\n",
    "    a = [1,2,3,5,6]\n",
    "    Smallest_num = Min(a)\n",
    "    \n",
    "except Exception as e:\n",
    "    print(e,\"----Error!!\")"
   ]
  },
  {
   "cell_type": "code",
   "execution_count": 9,
   "id": "e08ce834",
   "metadata": {},
   "outputs": [
    {
     "data": {
      "text/plain": [
       "1"
      ]
     },
     "execution_count": 9,
     "metadata": {},
     "output_type": "execute_result"
    }
   ],
   "source": [
    "Smallest_num"
   ]
  },
  {
   "cell_type": "markdown",
   "id": "bd847b5e",
   "metadata": {},
   "source": [
    "4.Write a Python program to find largest number in a list?"
   ]
  },
  {
   "cell_type": "code",
   "execution_count": 10,
   "id": "9822e9a6",
   "metadata": {},
   "outputs": [],
   "source": [
    "def Max(a):\n",
    "    return max(a)"
   ]
  },
  {
   "cell_type": "code",
   "execution_count": 11,
   "id": "0563b214",
   "metadata": {},
   "outputs": [],
   "source": [
    "try:\n",
    "    a = [1,2,3,5,6]\n",
    "    Largest_num = Max(a)\n",
    "    \n",
    "except Exception as e:\n",
    "    print(e,\"----Error!!\")"
   ]
  },
  {
   "cell_type": "code",
   "execution_count": 12,
   "id": "c2f8445e",
   "metadata": {},
   "outputs": [
    {
     "data": {
      "text/plain": [
       "6"
      ]
     },
     "execution_count": 12,
     "metadata": {},
     "output_type": "execute_result"
    }
   ],
   "source": [
    "Largest_num"
   ]
  },
  {
   "cell_type": "markdown",
   "id": "7fd84a6d",
   "metadata": {},
   "source": [
    "5.Write a Python program to find second largest number in a list?"
   ]
  },
  {
   "cell_type": "code",
   "execution_count": 13,
   "id": "ec46f337",
   "metadata": {},
   "outputs": [],
   "source": [
    "def Second_largest(a):\n",
    "    a.sort()\n",
    "    return a[len(a)-2]"
   ]
  },
  {
   "cell_type": "code",
   "execution_count": 14,
   "id": "e92a76d9",
   "metadata": {},
   "outputs": [],
   "source": [
    "try:\n",
    "    a = [1,2,3,5,6]\n",
    "    Sec_Largest_num = Second_largest(a)\n",
    "    \n",
    "except Exception as e:\n",
    "    print(e,\"----Error!!\")"
   ]
  },
  {
   "cell_type": "code",
   "execution_count": 15,
   "id": "796b770b",
   "metadata": {},
   "outputs": [
    {
     "data": {
      "text/plain": [
       "5"
      ]
     },
     "execution_count": 15,
     "metadata": {},
     "output_type": "execute_result"
    }
   ],
   "source": [
    "Sec_Largest_num"
   ]
  },
  {
   "cell_type": "markdown",
   "id": "415b3e90",
   "metadata": {},
   "source": [
    "6.Write a Python program to find Nth largest elements from a list?"
   ]
  },
  {
   "cell_type": "code",
   "execution_count": 16,
   "id": "447ec606",
   "metadata": {},
   "outputs": [],
   "source": [
    "def Nth_largest(a,N):\n",
    "    a.sort()\n",
    "    return a[len(a)-N]"
   ]
  },
  {
   "cell_type": "code",
   "execution_count": 17,
   "id": "564f1326",
   "metadata": {},
   "outputs": [
    {
     "name": "stdout",
     "output_type": "stream",
     "text": [
      "1\n"
     ]
    }
   ],
   "source": [
    "try:\n",
    "    a = [1,2,3,5,6]\n",
    "    N = int(input())\n",
    "    Nth_largest_num = Nth_largest(a,N)\n",
    "    \n",
    "except Exception as e:\n",
    "    print(e,\"----Error!!\")"
   ]
  },
  {
   "cell_type": "code",
   "execution_count": 18,
   "id": "08ede8b8",
   "metadata": {},
   "outputs": [
    {
     "data": {
      "text/plain": [
       "6"
      ]
     },
     "execution_count": 18,
     "metadata": {},
     "output_type": "execute_result"
    }
   ],
   "source": [
    "Nth_largest_num"
   ]
  },
  {
   "cell_type": "markdown",
   "id": "f26ee7a2",
   "metadata": {},
   "source": [
    "7.Write a Python program to print even numbers in a list?"
   ]
  },
  {
   "cell_type": "code",
   "execution_count": 19,
   "id": "8d401dfd",
   "metadata": {},
   "outputs": [],
   "source": [
    "def Even(a):\n",
    "    for i in a:\n",
    "        if i%2==0:\n",
    "            print(i)"
   ]
  },
  {
   "cell_type": "code",
   "execution_count": 20,
   "id": "e2ced94f",
   "metadata": {},
   "outputs": [
    {
     "name": "stdout",
     "output_type": "stream",
     "text": [
      "2\n",
      "4\n",
      "6\n"
     ]
    }
   ],
   "source": [
    "try:\n",
    "    a = [1,2,3,4,5,6]\n",
    "    Even(a)\n",
    "    \n",
    "except Exception as e:\n",
    "    print(e,\"----Error!!\")"
   ]
  },
  {
   "cell_type": "markdown",
   "id": "7d07b6f4",
   "metadata": {},
   "source": [
    "8.Write a Python program to print odd numbers in a List?"
   ]
  },
  {
   "cell_type": "code",
   "execution_count": 21,
   "id": "db0f1de9",
   "metadata": {},
   "outputs": [],
   "source": [
    "def Odd(a):\n",
    "    for i in a:\n",
    "        if i%2 != 0:\n",
    "            print(i)"
   ]
  },
  {
   "cell_type": "code",
   "execution_count": 22,
   "id": "3a645564",
   "metadata": {},
   "outputs": [
    {
     "name": "stdout",
     "output_type": "stream",
     "text": [
      "1\n",
      "3\n",
      "5\n"
     ]
    }
   ],
   "source": [
    "try:\n",
    "    a = [1,2,3,4,5,6]\n",
    "    Odd(a)\n",
    "    \n",
    "except Exception as e:\n",
    "    print(e,\"----Error!!\")"
   ]
  },
  {
   "cell_type": "markdown",
   "id": "c0da34f4",
   "metadata": {},
   "source": [
    "9.Write a Python program to Remove empty List from List?"
   ]
  },
  {
   "cell_type": "code",
   "execution_count": 23,
   "id": "a891ac0a",
   "metadata": {},
   "outputs": [],
   "source": [
    "def Empty_list(a):\n",
    "    for i in a:\n",
    "        if type(i) == list:\n",
    "            if len(i)==0:\n",
    "                a.remove(i)\n",
    "                \n",
    "    return a"
   ]
  },
  {
   "cell_type": "code",
   "execution_count": 24,
   "id": "6b72b331",
   "metadata": {},
   "outputs": [],
   "source": [
    "try:\n",
    "    a = [1,2,3,[],4,5,[],6,['a','y','u','s','h']]\n",
    "    a = Empty_list(a)\n",
    "    \n",
    "except Exception as e:\n",
    "    print(e,\"----Error!!\")"
   ]
  },
  {
   "cell_type": "code",
   "execution_count": 25,
   "id": "40d9552a",
   "metadata": {},
   "outputs": [
    {
     "data": {
      "text/plain": [
       "[1, 2, 3, 4, 5, 6, ['a', 'y', 'u', 's', 'h']]"
      ]
     },
     "execution_count": 25,
     "metadata": {},
     "output_type": "execute_result"
    }
   ],
   "source": [
    "a"
   ]
  },
  {
   "cell_type": "markdown",
   "id": "ccaacd3e",
   "metadata": {},
   "source": [
    "10.Write a Python program to Cloning or Copying a list?"
   ]
  },
  {
   "cell_type": "code",
   "execution_count": 26,
   "id": "bba3130d",
   "metadata": {},
   "outputs": [],
   "source": [
    "def Copy(a):\n",
    "    result = a.copy()\n",
    "    return result"
   ]
  },
  {
   "cell_type": "code",
   "execution_count": 27,
   "id": "d7d61b3d",
   "metadata": {},
   "outputs": [],
   "source": [
    "try:\n",
    "    a = [1,2,3,[],4,5,[],6,['a','y','u','s','h']]\n",
    "    result = Copy(a)\n",
    "    \n",
    "except Exception as e:\n",
    "    print(e,\"----Error!!\")"
   ]
  },
  {
   "cell_type": "code",
   "execution_count": 28,
   "id": "443c878d",
   "metadata": {},
   "outputs": [
    {
     "data": {
      "text/plain": [
       "[1, 2, 3, [], 4, 5, [], 6, ['a', 'y', 'u', 's', 'h']]"
      ]
     },
     "execution_count": 28,
     "metadata": {},
     "output_type": "execute_result"
    }
   ],
   "source": [
    "result"
   ]
  },
  {
   "cell_type": "markdown",
   "id": "19bc3dd9",
   "metadata": {},
   "source": [
    "11.Write a Python program to Count occurrences of an element in a list?"
   ]
  },
  {
   "cell_type": "code",
   "execution_count": 29,
   "id": "8b5fe025",
   "metadata": {},
   "outputs": [],
   "source": [
    "def Occurrences(a,n):\n",
    "    count = 0\n",
    "    for i in a:\n",
    "        if i == n:\n",
    "            count += 1\n",
    "            \n",
    "    return count"
   ]
  },
  {
   "cell_type": "code",
   "execution_count": 31,
   "id": "6a77f3c7",
   "metadata": {},
   "outputs": [],
   "source": [
    "try:\n",
    "    a = [1,2,3,[],4,5,[],6,['a','y','u','s','h'],4,'i',6,7,8,4,4]\n",
    "    count = Occurrences(a,4)\n",
    "    \n",
    "except Exception as e:\n",
    "    print(e,\"----Error!!\")"
   ]
  },
  {
   "cell_type": "code",
   "execution_count": 32,
   "id": "dc0d016c",
   "metadata": {},
   "outputs": [
    {
     "data": {
      "text/plain": [
       "4"
      ]
     },
     "execution_count": 32,
     "metadata": {},
     "output_type": "execute_result"
    }
   ],
   "source": [
    "count"
   ]
  }
 ],
 "metadata": {
  "kernelspec": {
   "display_name": "Python 3 (ipykernel)",
   "language": "python",
   "name": "python3"
  },
  "language_info": {
   "codemirror_mode": {
    "name": "ipython",
    "version": 3
   },
   "file_extension": ".py",
   "mimetype": "text/x-python",
   "name": "python",
   "nbconvert_exporter": "python",
   "pygments_lexer": "ipython3",
   "version": "3.9.7"
  }
 },
 "nbformat": 4,
 "nbformat_minor": 5
}
