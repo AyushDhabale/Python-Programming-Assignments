{
 "cells": [
  {
   "cell_type": "markdown",
   "id": "afda6ace",
   "metadata": {},
   "source": [
    "Question 1\n",
    "Create a function that takes a list of non-negative integers and strings and return a new list\n",
    "\n",
    "without the strings."
   ]
  },
  {
   "cell_type": "code",
   "execution_count": 1,
   "id": "c954b81c",
   "metadata": {},
   "outputs": [],
   "source": [
    "def integer(l):\n",
    "    I = []\n",
    "    for i in l:\n",
    "        if i.isdigit():\n",
    "            I.append(int(i))\n",
    "    return I"
   ]
  },
  {
   "cell_type": "code",
   "execution_count": 2,
   "id": "c1a4c0a1",
   "metadata": {},
   "outputs": [
    {
     "name": "stdout",
     "output_type": "stream",
     "text": [
      "INPUT:\n",
      "Enter non-negative int and strings:1,'data',\"science\",8,9,10,\"ayush\",11,\"ineuron\",33\n",
      "\n",
      "OUTPUT\n",
      "[1, 8, 9, 10, 11, 33]\n"
     ]
    }
   ],
   "source": [
    "try:\n",
    "    print(\"INPUT:\")\n",
    "    l = input(\"Enter non-negative int and strings:\").split(',')\n",
    "    I = integer(l)\n",
    "    \n",
    "    print(\"\\nOUTPUT\")\n",
    "    print(I)\n",
    "    \n",
    "except Exception as e:\n",
    "    print(e,\"----Error!!\")"
   ]
  },
  {
   "cell_type": "markdown",
   "id": "4ac046ed",
   "metadata": {},
   "source": [
    "Question 2\n",
    "The &quot;Reverser&quot; takes a string as input and returns that string in reverse order, with the\n",
    "\n",
    "opposite case."
   ]
  },
  {
   "cell_type": "code",
   "execution_count": 3,
   "id": "3857b687",
   "metadata": {},
   "outputs": [],
   "source": [
    "def str_Reverser(s):\n",
    "    temp = \"\"\n",
    "    for i in s:\n",
    "        if i.isupper():\n",
    "            temp += i.lower()\n",
    "            \n",
    "        else:\n",
    "            temp += i.upper()\n",
    "            \n",
    "    return temp[::-1]"
   ]
  },
  {
   "cell_type": "code",
   "execution_count": 4,
   "id": "cb281983",
   "metadata": {},
   "outputs": [
    {
     "name": "stdout",
     "output_type": "stream",
     "text": [
      "INPUT:\n",
      "Hello World\n",
      "\n",
      "OUTPUT\n",
      "DLROw OLLEh\n"
     ]
    }
   ],
   "source": [
    "try:\n",
    "    print(\"INPUT:\")\n",
    "    s = input()\n",
    "    \n",
    "    Str = str_Reverser(s)\n",
    "    \n",
    "    print(\"\\nOUTPUT\")\n",
    "    print(Str)\n",
    "    \n",
    "except Exception as e:\n",
    "    print(e,\"----Error!!\")"
   ]
  },
  {
   "cell_type": "markdown",
   "id": "263118e9",
   "metadata": {},
   "source": [
    "Question 3 Your task is to unpack the list writeyourcodehere into three variables, being first,\n",
    "\n",
    "middle, and last, with middle being everything in between the first and last element. Then\n",
    "\n",
    "print all three variables."
   ]
  },
  {
   "cell_type": "code",
   "execution_count": 5,
   "id": "d57b24e1",
   "metadata": {},
   "outputs": [],
   "source": [
    "def Destructuring(l):\n",
    "    temp = []\n",
    "    \n",
    "    for i in l:\n",
    "        if i.isdigit():\n",
    "            temp.append(int(i))\n",
    "            \n",
    "        else:\n",
    "            temp.append(i)\n",
    "    first,*middle,last = temp\n",
    "    \n",
    "    return first,middle,last"
   ]
  },
  {
   "cell_type": "code",
   "execution_count": 6,
   "id": "c1a727c5",
   "metadata": {},
   "outputs": [
    {
     "name": "stdout",
     "output_type": "stream",
     "text": [
      "INPUT:\n",
      "1,2,3,4,data,bags,7,8,9\n",
      "\n",
      "OUTPUT:\n",
      "FIRST: 1\n",
      "MIDDLE: [2, 3, 4, 'data', 'bags', 7, 8]\n",
      "LAST: 9\n"
     ]
    }
   ],
   "source": [
    "try:\n",
    "    print(\"INPUT:\")\n",
    "    s = input().split(',')\n",
    "    \n",
    "    first,middle,last = Destructuring(s)\n",
    "    \n",
    "    print(\"\\nOUTPUT:\")\n",
    "    print(\"FIRST:\",first)\n",
    "    print(\"MIDDLE:\",middle)\n",
    "    print(\"LAST:\",last)\n",
    "    \n",
    "except Exception as e:\n",
    "    print(e,\"----Error!!\")"
   ]
  },
  {
   "cell_type": "markdown",
   "id": "01a05209",
   "metadata": {},
   "source": [
    "Question 4\n",
    "Write a function that calculates the factorial of a number recursively."
   ]
  },
  {
   "cell_type": "code",
   "execution_count": 7,
   "id": "7f892cba",
   "metadata": {},
   "outputs": [],
   "source": [
    "def factorial(n):\n",
    "    if n == 1 or n == 0:\n",
    "        return 1\n",
    "    \n",
    "    else:\n",
    "        return n*factorial(n-1)"
   ]
  },
  {
   "cell_type": "code",
   "execution_count": 8,
   "id": "6df63d7c",
   "metadata": {},
   "outputs": [
    {
     "name": "stdout",
     "output_type": "stream",
     "text": [
      "INPUT:\n",
      "7\n",
      "\n",
      "OUTPUT:\n",
      "5040\n"
     ]
    }
   ],
   "source": [
    "try:\n",
    "    print(\"INPUT:\")\n",
    "    n = int(input())\n",
    "    \n",
    "    fac = factorial(n)\n",
    "    \n",
    "    print(\"\\nOUTPUT:\")\n",
    "    print(fac)\n",
    "    \n",
    "except Exception as e:\n",
    "    print(e,\"----Error!!\")"
   ]
  },
  {
   "cell_type": "markdown",
   "id": "b4cbdc9a",
   "metadata": {},
   "source": [
    "Question 5 Write a function that moves all elements of one type to the end of the list."
   ]
  },
  {
   "cell_type": "code",
   "execution_count": 9,
   "id": "6b338579",
   "metadata": {},
   "outputs": [],
   "source": [
    "def move_to_last(l,n):\n",
    "    for i in l:\n",
    "        if i == n:\n",
    "            l.pop(l.index(i))\n",
    "            l.append(i)\n",
    "            \n",
    "    return l"
   ]
  },
  {
   "cell_type": "code",
   "execution_count": 10,
   "id": "6b4c1c67",
   "metadata": {},
   "outputs": [
    {
     "name": "stdout",
     "output_type": "stream",
     "text": [
      "INPUT:\n",
      "1,2,3,4,a,b,a,a,3,6,7,8,b\n",
      "a\n",
      "\n",
      "OUTPUT:\n",
      "['1', '2', '3', '4', 'b', '3', '6', '7', '8', 'b', 'a', 'a', 'a']\n"
     ]
    }
   ],
   "source": [
    "try:\n",
    "    print(\"INPUT:\")\n",
    "    l = input().split(',')\n",
    "    n = input()\n",
    "    \n",
    "    result = move_to_last(l,n)\n",
    "    print(\"\\nOUTPUT:\")\n",
    "    print(result)\n",
    "    \n",
    "except Exception as e:\n",
    "    print(e,\"----Error!!\")"
   ]
  }
 ],
 "metadata": {
  "kernelspec": {
   "display_name": "Python 3 (ipykernel)",
   "language": "python",
   "name": "python3"
  },
  "language_info": {
   "codemirror_mode": {
    "name": "ipython",
    "version": 3
   },
   "file_extension": ".py",
   "mimetype": "text/x-python",
   "name": "python",
   "nbconvert_exporter": "python",
   "pygments_lexer": "ipython3",
   "version": "3.9.7"
  }
 },
 "nbformat": 4,
 "nbformat_minor": 5
}
