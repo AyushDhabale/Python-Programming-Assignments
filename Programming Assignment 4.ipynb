{
 "cells": [
  {
   "cell_type": "markdown",
   "id": "81b3bb86",
   "metadata": {},
   "source": [
    "1.Write a Python Program to Find the Factorial of a Number?"
   ]
  },
  {
   "cell_type": "code",
   "execution_count": 1,
   "id": "ed320f14",
   "metadata": {},
   "outputs": [],
   "source": [
    "def Factorial(a):\n",
    "    if a==0 or a == 1:\n",
    "        return 1\n",
    "    else:\n",
    "        return a*Factorial(a-1)"
   ]
  },
  {
   "cell_type": "code",
   "execution_count": 2,
   "id": "e579f432",
   "metadata": {},
   "outputs": [
    {
     "name": "stdout",
     "output_type": "stream",
     "text": [
      "Enter a number:6\n"
     ]
    }
   ],
   "source": [
    "try:\n",
    "    a = int(input(\"Enter a number:\"))\n",
    "    factorial = Factorial(a)\n",
    "    \n",
    "except:\n",
    "    print(\"Error!!\")"
   ]
  },
  {
   "cell_type": "code",
   "execution_count": 3,
   "id": "7cd7c957",
   "metadata": {},
   "outputs": [
    {
     "data": {
      "text/plain": [
       "720"
      ]
     },
     "execution_count": 3,
     "metadata": {},
     "output_type": "execute_result"
    }
   ],
   "source": [
    "factorial"
   ]
  },
  {
   "cell_type": "markdown",
   "id": "aabb496c",
   "metadata": {},
   "source": [
    "2.Write a Python Program to Display the multiplication Table?"
   ]
  },
  {
   "cell_type": "code",
   "execution_count": 4,
   "id": "8d2ff02f",
   "metadata": {},
   "outputs": [],
   "source": [
    "def Multiplication(a):\n",
    "    for i in range(1,11):\n",
    "        print(str(a)+\" X \" + str(i) + \" = \" + str(a*i))"
   ]
  },
  {
   "cell_type": "code",
   "execution_count": 5,
   "id": "f90a1445",
   "metadata": {},
   "outputs": [
    {
     "name": "stdout",
     "output_type": "stream",
     "text": [
      "7 X 1 = 7\n",
      "7 X 2 = 14\n",
      "7 X 3 = 21\n",
      "7 X 4 = 28\n",
      "7 X 5 = 35\n",
      "7 X 6 = 42\n",
      "7 X 7 = 49\n",
      "7 X 8 = 56\n",
      "7 X 9 = 63\n",
      "7 X 10 = 70\n"
     ]
    }
   ],
   "source": [
    "Multiplication(7)"
   ]
  },
  {
   "cell_type": "markdown",
   "id": "d0f38668",
   "metadata": {},
   "source": [
    "3.Write a Python Program to Print the Fibonacci sequence?"
   ]
  },
  {
   "cell_type": "code",
   "execution_count": 6,
   "id": "73228b3d",
   "metadata": {},
   "outputs": [],
   "source": [
    "def Fibonacci(a,b,n):\n",
    "    for i in range(n):\n",
    "        yield a\n",
    "        a, b = b, a+b\n",
    "    "
   ]
  },
  {
   "cell_type": "code",
   "execution_count": 7,
   "id": "645cdedd",
   "metadata": {},
   "outputs": [
    {
     "name": "stdout",
     "output_type": "stream",
     "text": [
      "Enter first num:7\n",
      "Enter second num:8\n",
      "Enter the number of elements in the sequence:15\n",
      "7\n",
      "8\n",
      "15\n",
      "23\n",
      "38\n",
      "61\n",
      "99\n",
      "160\n",
      "259\n",
      "419\n",
      "678\n",
      "1097\n",
      "1775\n",
      "2872\n",
      "4647\n"
     ]
    }
   ],
   "source": [
    "try:\n",
    "    a = int(input(\"Enter first num:\"))\n",
    "    b = int(input(\"Enter second num:\"))\n",
    "    n = int(input(\"Enter the number of elements in the sequence:\"))\n",
    "    for i in Fibonacci(a,b,n):\n",
    "        print(i)\n",
    "        \n",
    "except:\n",
    "    print(\"Error!!\")"
   ]
  },
  {
   "cell_type": "markdown",
   "id": "fb722386",
   "metadata": {},
   "source": [
    "4.Write a Python Program to Check Armstrong Number?"
   ]
  },
  {
   "cell_type": "code",
   "execution_count": 8,
   "id": "4d0f8a20",
   "metadata": {},
   "outputs": [],
   "source": [
    "A ='Is an Armstrong number!'\n",
    "B = 'Not an Armstrong number!'\n",
    "def Armstrong_num(a):\n",
    "    a = str(a)\n",
    "    Sum = 0\n",
    "    for i in a:\n",
    "        Sum += int(i)**3\n",
    "        \n",
    "    if Sum == int(a):\n",
    "        return A\n",
    "    \n",
    "    else:\n",
    "        return B\n",
    "        \n",
    "        \n",
    "        "
   ]
  },
  {
   "cell_type": "code",
   "execution_count": 9,
   "id": "dadd164f",
   "metadata": {},
   "outputs": [
    {
     "name": "stdout",
     "output_type": "stream",
     "text": [
      "Enter a num:153\n"
     ]
    }
   ],
   "source": [
    "try:\n",
    "    a = int(input(\"Enter a num:\"))\n",
    "    result = Armstrong_num(a)\n",
    "    \n",
    "except:\n",
    "    print(\"Error!!\")"
   ]
  },
  {
   "cell_type": "code",
   "execution_count": 10,
   "id": "e598c3cd",
   "metadata": {},
   "outputs": [
    {
     "data": {
      "text/plain": [
       "'Is an Armstrong number!'"
      ]
     },
     "execution_count": 10,
     "metadata": {},
     "output_type": "execute_result"
    }
   ],
   "source": [
    "result"
   ]
  },
  {
   "cell_type": "markdown",
   "id": "33be4960",
   "metadata": {},
   "source": [
    "5.Write a Python Program to Find Armstrong Number in an Interval?"
   ]
  },
  {
   "cell_type": "code",
   "execution_count": 11,
   "id": "873a6157",
   "metadata": {},
   "outputs": [],
   "source": [
    "l =[]\n",
    "def Armstrong_num(a,b):\n",
    "    for i in range(a,b):\n",
    "        i = str(i)\n",
    "        Sum = 0\n",
    "        for j in i:\n",
    "            Sum += int(j)**3\n",
    "        \n",
    "        if Sum == int(i):\n",
    "            l.append(i)\n",
    "            \n",
    "    return l        "
   ]
  },
  {
   "cell_type": "code",
   "execution_count": 12,
   "id": "478e863e",
   "metadata": {},
   "outputs": [
    {
     "name": "stdout",
     "output_type": "stream",
     "text": [
      "Enter the lower limit:0\n",
      "Enter the upper limit:408\n"
     ]
    }
   ],
   "source": [
    "try:\n",
    "    a = int(input(\"Enter the lower limit:\"))\n",
    "    b = int(input(\"Enter the upper limit:\"))\n",
    "    l = Armstrong_num(a,b)\n",
    "    \n",
    "except:\n",
    "    print(\"Errorr!!\")"
   ]
  },
  {
   "cell_type": "code",
   "execution_count": 13,
   "id": "9044a07d",
   "metadata": {},
   "outputs": [
    {
     "data": {
      "text/plain": [
       "['0', '1', '153', '370', '371', '407']"
      ]
     },
     "execution_count": 13,
     "metadata": {},
     "output_type": "execute_result"
    }
   ],
   "source": [
    "l #will give list of armstrong numbers in the given interval"
   ]
  },
  {
   "cell_type": "markdown",
   "id": "412122b2",
   "metadata": {},
   "source": [
    "6.Write a Python Program to Find the Sum of Natural Numbers?"
   ]
  },
  {
   "cell_type": "code",
   "execution_count": 14,
   "id": "3a85e6aa",
   "metadata": {},
   "outputs": [],
   "source": [
    "def Sum_natural_num(n):\n",
    "    SUM = (n*(n + 1))/2\n",
    "    return int(SUM)"
   ]
  },
  {
   "cell_type": "code",
   "execution_count": 15,
   "id": "b9117e9e",
   "metadata": {},
   "outputs": [
    {
     "name": "stdout",
     "output_type": "stream",
     "text": [
      "Enter a number:12\n"
     ]
    }
   ],
   "source": [
    "try:\n",
    "    n = int(input(\"Enter a number:\"))\n",
    "    SUM = Sum_natural_num(n)\n",
    "    \n",
    "except:\n",
    "    print(\"Error!!\")"
   ]
  },
  {
   "cell_type": "code",
   "execution_count": 16,
   "id": "e8c302b9",
   "metadata": {},
   "outputs": [
    {
     "data": {
      "text/plain": [
       "78"
      ]
     },
     "execution_count": 16,
     "metadata": {},
     "output_type": "execute_result"
    }
   ],
   "source": [
    "SUM"
   ]
  }
 ],
 "metadata": {
  "kernelspec": {
   "display_name": "Python 3 (ipykernel)",
   "language": "python",
   "name": "python3"
  },
  "language_info": {
   "codemirror_mode": {
    "name": "ipython",
    "version": 3
   },
   "file_extension": ".py",
   "mimetype": "text/x-python",
   "name": "python",
   "nbconvert_exporter": "python",
   "pygments_lexer": "ipython3",
   "version": "3.9.7"
  }
 },
 "nbformat": 4,
 "nbformat_minor": 5
}
