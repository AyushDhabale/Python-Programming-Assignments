{
 "cells": [
  {
   "cell_type": "markdown",
   "id": "ee30f849",
   "metadata": {},
   "source": [
    "Question1 Create a function that takes a string and returns a string in which each character is repeated\n",
    "\n",
    "once."
   ]
  },
  {
   "cell_type": "code",
   "execution_count": 1,
   "id": "23efddb8",
   "metadata": {},
   "outputs": [],
   "source": [
    "def repeater(s):\n",
    "    temp =\"\"\n",
    "    for i in s:\n",
    "        temp += i*2\n",
    "    return temp"
   ]
  },
  {
   "cell_type": "code",
   "execution_count": 2,
   "id": "48f30dd1",
   "metadata": {},
   "outputs": [
    {
     "name": "stdout",
     "output_type": "stream",
     "text": [
      "INPUT:\n",
      "Science\n",
      "\n",
      "OUTPUT:\n",
      "SScciieennccee\n"
     ]
    }
   ],
   "source": [
    "try:\n",
    "    print(\"INPUT:\")\n",
    "    s = input()\n",
    "    \n",
    "    result = repeater(s)\n",
    "    \n",
    "    print(\"\\nOUTPUT:\")\n",
    "    print(result)\n",
    "    \n",
    "except Exception as e:\n",
    "    print(e,\"----Error!!\")"
   ]
  },
  {
   "cell_type": "markdown",
   "id": "48b68d71",
   "metadata": {},
   "source": [
    "Question 2 Create a function that reverses a boolean value and returns the string &quot;boolean expected&quot;\n",
    "\n",
    "if another variable type is given."
   ]
  },
  {
   "cell_type": "code",
   "execution_count": 3,
   "id": "9e34399a",
   "metadata": {},
   "outputs": [],
   "source": [
    "def reverse_boolean(b):\n",
    "    if type(b) == bool:\n",
    "        return not b\n",
    "        \n",
    "    else:\n",
    "        return \"boolean expected\""
   ]
  },
  {
   "cell_type": "code",
   "execution_count": 4,
   "id": "8a886ff7",
   "metadata": {},
   "outputs": [
    {
     "data": {
      "text/plain": [
       "False"
      ]
     },
     "execution_count": 4,
     "metadata": {},
     "output_type": "execute_result"
    }
   ],
   "source": [
    "reverse_boolean(True)"
   ]
  },
  {
   "cell_type": "code",
   "execution_count": 5,
   "id": "b2ed280b",
   "metadata": {},
   "outputs": [
    {
     "data": {
      "text/plain": [
       "True"
      ]
     },
     "execution_count": 5,
     "metadata": {},
     "output_type": "execute_result"
    }
   ],
   "source": [
    "reverse_boolean(False)"
   ]
  },
  {
   "cell_type": "code",
   "execution_count": 6,
   "id": "d149ea90",
   "metadata": {},
   "outputs": [
    {
     "data": {
      "text/plain": [
       "'boolean expected'"
      ]
     },
     "execution_count": 6,
     "metadata": {},
     "output_type": "execute_result"
    }
   ],
   "source": [
    "reverse_boolean(\"ayush\")"
   ]
  },
  {
   "cell_type": "markdown",
   "id": "1184814a",
   "metadata": {},
   "source": [
    "Question3 Create a function that returns the thickness (in meters) of a piece of paper after folding it n\n",
    " \n",
    " number of times. The paper starts off with a thickness of 0.5mm."
   ]
  },
  {
   "cell_type": "code",
   "execution_count": 7,
   "id": "0cf05cfb",
   "metadata": {},
   "outputs": [],
   "source": [
    "def thickness(n):\n",
    "    return n * 0.005"
   ]
  },
  {
   "cell_type": "code",
   "execution_count": 8,
   "id": "cee17345",
   "metadata": {},
   "outputs": [
    {
     "name": "stdout",
     "output_type": "stream",
     "text": [
      "INPUT:\n",
      "5\n",
      "\n",
      "OUTPUT:\n",
      "0.025\n"
     ]
    }
   ],
   "source": [
    "try:\n",
    "    print(\"INPUT:\")\n",
    "    n = int(input())\n",
    "    \n",
    "    result = thickness(n)\n",
    "    \n",
    "    print(\"\\nOUTPUT:\")\n",
    "    print(result)\n",
    "    \n",
    "except Exception as e:\n",
    "    print(e,\"----Error!!\")"
   ]
  },
  {
   "cell_type": "markdown",
   "id": "48eecba4",
   "metadata": {},
   "source": [
    "Question4 Create a function that takes a single string as argument and returns an ordered list containing\n",
    "\n",
    "the indices of all capital letters in the string."
   ]
  },
  {
   "cell_type": "code",
   "execution_count": 9,
   "id": "de47196c",
   "metadata": {},
   "outputs": [],
   "source": [
    "def index(s):\n",
    "    l = []\n",
    "    for i in range(len(s)):\n",
    "        if s[i].isupper():\n",
    "            l.append(i)\n",
    "            \n",
    "    return l"
   ]
  },
  {
   "cell_type": "code",
   "execution_count": 10,
   "id": "f737e28d",
   "metadata": {},
   "outputs": [
    {
     "name": "stdout",
     "output_type": "stream",
     "text": [
      "INPUT:\n",
      "Full Stack Data Science BootCamp\n",
      "\n",
      "OUTPUT:\n",
      "[0, 5, 11, 16, 24, 28]\n"
     ]
    }
   ],
   "source": [
    "try:\n",
    "    print(\"INPUT:\")\n",
    "    s = input()\n",
    "    \n",
    "    result = index(s)\n",
    "    \n",
    "    print(\"\\nOUTPUT:\")\n",
    "    print(result)\n",
    "    \n",
    "except Exception as e:\n",
    "    print(e,\"----Error!!\")"
   ]
  },
  {
   "cell_type": "markdown",
   "id": "b11d758c",
   "metadata": {},
   "source": [
    "Question5 Using list comprehensions, create a function that finds all even numbers from 1 to the given\n",
    "\n",
    "number."
   ]
  },
  {
   "cell_type": "code",
   "execution_count": 11,
   "id": "64ab0191",
   "metadata": {},
   "outputs": [],
   "source": [
    "def Even(n):\n",
    "    num = []\n",
    "    even = []\n",
    "    for i in range(1,n+1):\n",
    "        num.append(i)\n",
    "        \n",
    "    for i in num:\n",
    "        if i % 2 == 0:\n",
    "            even.append(i)\n",
    "            \n",
    "    return even"
   ]
  },
  {
   "cell_type": "code",
   "execution_count": 12,
   "id": "fa91d0ab",
   "metadata": {},
   "outputs": [
    {
     "name": "stdout",
     "output_type": "stream",
     "text": [
      "INPUT:\n",
      "10\n",
      "\n",
      "OUTPUT:\n",
      "[2, 4, 6, 8, 10]\n"
     ]
    }
   ],
   "source": [
    "try:\n",
    "    print(\"INPUT:\")\n",
    "    n = int(input())\n",
    "    \n",
    "    result = Even(n)\n",
    "    \n",
    "    print(\"\\nOUTPUT:\")\n",
    "    print(result)\n",
    "    \n",
    "except Exception as e:\n",
    "    print(e,\"----Error!!\")"
   ]
  }
 ],
 "metadata": {
  "kernelspec": {
   "display_name": "Python 3 (ipykernel)",
   "language": "python",
   "name": "python3"
  },
  "language_info": {
   "codemirror_mode": {
    "name": "ipython",
    "version": 3
   },
   "file_extension": ".py",
   "mimetype": "text/x-python",
   "name": "python",
   "nbconvert_exporter": "python",
   "pygments_lexer": "ipython3",
   "version": "3.9.7"
  }
 },
 "nbformat": 4,
 "nbformat_minor": 5
}
