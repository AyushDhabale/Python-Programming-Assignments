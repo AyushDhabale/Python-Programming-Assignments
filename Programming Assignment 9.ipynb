{
 "cells": [
  {
   "cell_type": "markdown",
   "id": "6bdaa738",
   "metadata": {},
   "source": [
    "1.Write a Python program to check if the given number is a Disarium Number?"
   ]
  },
  {
   "cell_type": "code",
   "execution_count": 1,
   "id": "a2b52498",
   "metadata": {},
   "outputs": [],
   "source": [
    "def Disarium_Num(a):\n",
    "    sum = 0\n",
    "    Y = \"Is a disarium number!!\"\n",
    "    N = \"Is not a disarium number!!\"\n",
    "    a = str(a)\n",
    "    for i in range(len(a)):\n",
    "        sum += int(a[i])**(i+1)\n",
    "        \n",
    "    if sum == int(a):\n",
    "        return Y\n",
    "    \n",
    "    else:\n",
    "        return N\n",
    "        \n",
    "    "
   ]
  },
  {
   "cell_type": "code",
   "execution_count": 2,
   "id": "7f6621fa",
   "metadata": {},
   "outputs": [
    {
     "name": "stdout",
     "output_type": "stream",
     "text": [
      "135\n"
     ]
    }
   ],
   "source": [
    "try:\n",
    "    a = int(input())\n",
    "    result = Disarium_Num(a)\n",
    "    \n",
    "except:\n",
    "    print(\"Error!!\")"
   ]
  },
  {
   "cell_type": "code",
   "execution_count": 3,
   "id": "653f5701",
   "metadata": {},
   "outputs": [
    {
     "data": {
      "text/plain": [
       "'Is a disarium number!!'"
      ]
     },
     "execution_count": 3,
     "metadata": {},
     "output_type": "execute_result"
    }
   ],
   "source": [
    "result"
   ]
  },
  {
   "cell_type": "markdown",
   "id": "521599ac",
   "metadata": {},
   "source": [
    "2.Write a Python program to print all disarium numbers between 1 to 100?"
   ]
  },
  {
   "cell_type": "code",
   "execution_count": 4,
   "id": "30346ac1",
   "metadata": {},
   "outputs": [],
   "source": [
    "def Disarium_Num():\n",
    "    temp = []\n",
    "    for i in range(1,100):\n",
    "        sum = 0\n",
    "        i = str(i)\n",
    "        for j in range(len(i)):\n",
    "            sum += int(i[j])**(j+1)\n",
    "        \n",
    "        if sum == int(i):\n",
    "            temp.append(int(i))\n",
    "            \n",
    "    return temp"
   ]
  },
  {
   "cell_type": "code",
   "execution_count": 5,
   "id": "ac206736",
   "metadata": {},
   "outputs": [],
   "source": [
    "result = Disarium_Num()"
   ]
  },
  {
   "cell_type": "code",
   "execution_count": 6,
   "id": "a2a40ecc",
   "metadata": {},
   "outputs": [
    {
     "data": {
      "text/plain": [
       "[1, 2, 3, 4, 5, 6, 7, 8, 9, 89]"
      ]
     },
     "execution_count": 6,
     "metadata": {},
     "output_type": "execute_result"
    }
   ],
   "source": [
    "result"
   ]
  },
  {
   "cell_type": "markdown",
   "id": "8ed89f23",
   "metadata": {},
   "source": [
    "3.Write a Python program to check if the given number is Happy Number?"
   ]
  },
  {
   "cell_type": "code",
   "execution_count": 7,
   "id": "f46f55b1",
   "metadata": {},
   "outputs": [],
   "source": [
    "def Happy_num(a):\n",
    "    Sum = rem = 0\n",
    " \n",
    "    while a>0:\n",
    "        rem = a % 10\n",
    "        Sum += rem**2\n",
    "        a = a // 10\n",
    "    \n",
    "    return Sum        "
   ]
  },
  {
   "cell_type": "code",
   "execution_count": 8,
   "id": "c5d35ea2",
   "metadata": {},
   "outputs": [
    {
     "name": "stdout",
     "output_type": "stream",
     "text": [
      "32\n",
      "Is a happy number!!\n"
     ]
    }
   ],
   "source": [
    "try:\n",
    "    r= int(input())\n",
    "    while r != 1 and r != 4:\n",
    "        r = Happy_num(r)\n",
    "    if r == 1:\n",
    "        print(\"Is a happy number!!\")\n",
    "    \n",
    "    elif r == 4:\n",
    "        print(\"Is not a happy number!!\")\n",
    "        \n",
    "except Exception as a:\n",
    "    print(a,\"Error!!\")"
   ]
  },
  {
   "cell_type": "markdown",
   "id": "040aee2f",
   "metadata": {},
   "source": [
    "4.Write a Python program to print all happy numbers between 1 and 100?"
   ]
  },
  {
   "cell_type": "code",
   "execution_count": 9,
   "id": "58c45dd1",
   "metadata": {},
   "outputs": [],
   "source": [
    "def Happy_num(a):\n",
    "    Sum = rem = 0\n",
    " \n",
    "    while a>0:\n",
    "        rem = a % 10\n",
    "        Sum += rem**2\n",
    "        a = a // 10\n",
    "    \n",
    "    return Sum"
   ]
  },
  {
   "cell_type": "code",
   "execution_count": 10,
   "id": "8b57e59e",
   "metadata": {},
   "outputs": [
    {
     "name": "stdout",
     "output_type": "stream",
     "text": [
      "[1, 7, 10, 13, 19, 23, 28, 31, 32, 44, 49, 68, 70, 79, 82, 86, 91, 94, 97, 100]\n"
     ]
    }
   ],
   "source": [
    "try:\n",
    "    temp = []\n",
    "    for r in range(1,101):\n",
    "        temp2 = r\n",
    "        while r != 1 and r != 4:\n",
    "            r = Happy_num(r)\n",
    "        \n",
    "        if r == 1:\n",
    "            temp.append(temp2)\n",
    "    print(temp)\n",
    "        \n",
    "except Exception as a:\n",
    "    print(a,\"----Error!!\")"
   ]
  },
  {
   "cell_type": "markdown",
   "id": "6a9dc56f",
   "metadata": {},
   "source": [
    "5.Write a Python program to determine whether the given number is a Harshad Number?"
   ]
  },
  {
   "cell_type": "code",
   "execution_count": 11,
   "id": "b8f26018",
   "metadata": {},
   "outputs": [],
   "source": [
    "def Harshad_num(a):\n",
    "    Sum = 0\n",
    "    Y = \"Is a harshad number!!\"\n",
    "    N = \"Is not a harshad number!!\"\n",
    "    for i in str(a):\n",
    "        Sum += int(i)\n",
    "        \n",
    "    if a % Sum == 0:\n",
    "        return Y\n",
    "    \n",
    "    else:\n",
    "        return N"
   ]
  },
  {
   "cell_type": "code",
   "execution_count": 12,
   "id": "a750161c",
   "metadata": {},
   "outputs": [
    {
     "name": "stdout",
     "output_type": "stream",
     "text": [
      "42\n"
     ]
    }
   ],
   "source": [
    "try:\n",
    "    a = int(input())\n",
    "    result = Harshad_num(a)\n",
    "    \n",
    "except Exception as e:\n",
    "    print(e,\"-----Error!!\")"
   ]
  },
  {
   "cell_type": "code",
   "execution_count": 13,
   "id": "7e16538c",
   "metadata": {},
   "outputs": [
    {
     "data": {
      "text/plain": [
       "'Is a harshad number!!'"
      ]
     },
     "execution_count": 13,
     "metadata": {},
     "output_type": "execute_result"
    }
   ],
   "source": [
    "result"
   ]
  },
  {
   "cell_type": "markdown",
   "id": "5632dcff",
   "metadata": {},
   "source": [
    "6.Write a Python program to print all pronic numbers between 1 and 100?"
   ]
  },
  {
   "cell_type": "code",
   "execution_count": 14,
   "id": "8a96e850",
   "metadata": {},
   "outputs": [],
   "source": [
    "def Harshad_num():\n",
    "    temp = []\n",
    "    for i in range(1,101):\n",
    "        Sum = 0\n",
    "        for j in str(i):\n",
    "            Sum += int(j)\n",
    "        \n",
    "        if i % Sum == 0:\n",
    "            temp.append(i)\n",
    "    return temp"
   ]
  },
  {
   "cell_type": "code",
   "execution_count": 15,
   "id": "91e7186b",
   "metadata": {},
   "outputs": [],
   "source": [
    "result= Harshad_num()"
   ]
  },
  {
   "cell_type": "code",
   "execution_count": 61,
   "id": "127ac7de",
   "metadata": {},
   "outputs": [
    {
     "data": {
      "text/plain": [
       "[1,\n",
       " 2,\n",
       " 3,\n",
       " 4,\n",
       " 5,\n",
       " 6,\n",
       " 7,\n",
       " 8,\n",
       " 9,\n",
       " 10,\n",
       " 12,\n",
       " 18,\n",
       " 20,\n",
       " 21,\n",
       " 24,\n",
       " 27,\n",
       " 30,\n",
       " 36,\n",
       " 40,\n",
       " 42,\n",
       " 45,\n",
       " 48,\n",
       " 50,\n",
       " 54,\n",
       " 60,\n",
       " 63,\n",
       " 70,\n",
       " 72,\n",
       " 80,\n",
       " 81,\n",
       " 84,\n",
       " 90,\n",
       " 100]"
      ]
     },
     "execution_count": 61,
     "metadata": {},
     "output_type": "execute_result"
    }
   ],
   "source": [
    "result"
   ]
  }
 ],
 "metadata": {
  "kernelspec": {
   "display_name": "Python 3 (ipykernel)",
   "language": "python",
   "name": "python3"
  },
  "language_info": {
   "codemirror_mode": {
    "name": "ipython",
    "version": 3
   },
   "file_extension": ".py",
   "mimetype": "text/x-python",
   "name": "python",
   "nbconvert_exporter": "python",
   "pygments_lexer": "ipython3",
   "version": "3.9.7"
  }
 },
 "nbformat": 4,
 "nbformat_minor": 5
}
