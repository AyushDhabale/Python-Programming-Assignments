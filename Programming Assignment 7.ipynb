{
 "cells": [
  {
   "cell_type": "markdown",
   "id": "92dce572",
   "metadata": {},
   "source": [
    "1.Write a Python Program to find sum of array?"
   ]
  },
  {
   "cell_type": "code",
   "execution_count": 1,
   "id": "72e7aede",
   "metadata": {},
   "outputs": [],
   "source": [
    "def Sum_array(list1,list2):\n",
    "    return (list1+list2)"
   ]
  },
  {
   "cell_type": "code",
   "execution_count": 2,
   "id": "04930e7c",
   "metadata": {},
   "outputs": [],
   "source": [
    "a = ['a','b','c','d','e']\n",
    "b = [1,2,3,4,5]\n",
    "LIST = Sum_array(a,b)"
   ]
  },
  {
   "cell_type": "code",
   "execution_count": 3,
   "id": "78d90774",
   "metadata": {},
   "outputs": [
    {
     "data": {
      "text/plain": [
       "['a', 'b', 'c', 'd', 'e', 1, 2, 3, 4, 5]"
      ]
     },
     "execution_count": 3,
     "metadata": {},
     "output_type": "execute_result"
    }
   ],
   "source": [
    "LIST"
   ]
  },
  {
   "cell_type": "markdown",
   "id": "ce9bb576",
   "metadata": {},
   "source": [
    "2.Write a Python Program to find largest element in an array?"
   ]
  },
  {
   "cell_type": "code",
   "execution_count": 4,
   "id": "f79c536b",
   "metadata": {},
   "outputs": [],
   "source": [
    "def Largest_num(a):\n",
    "    Largest = a[0]\n",
    "    for i in a:\n",
    "        if i > Largest:\n",
    "            Largest = i\n",
    "            \n",
    "    return Largest"
   ]
  },
  {
   "cell_type": "code",
   "execution_count": 5,
   "id": "3655769d",
   "metadata": {},
   "outputs": [],
   "source": [
    "a = [2,3,4,27,63,1,8]\n",
    "Largest = Largest_num(a)"
   ]
  },
  {
   "cell_type": "code",
   "execution_count": 6,
   "id": "b410c62d",
   "metadata": {},
   "outputs": [
    {
     "data": {
      "text/plain": [
       "63"
      ]
     },
     "execution_count": 6,
     "metadata": {},
     "output_type": "execute_result"
    }
   ],
   "source": [
    "Largest"
   ]
  },
  {
   "cell_type": "markdown",
   "id": "8ea7f602",
   "metadata": {},
   "source": [
    "3.Write a Python Program for array rotation?"
   ]
  },
  {
   "cell_type": "code",
   "execution_count": 7,
   "id": "d28b649b",
   "metadata": {},
   "outputs": [],
   "source": [
    "def Rotation(a):\n",
    "    return a[::-1]"
   ]
  },
  {
   "cell_type": "code",
   "execution_count": 8,
   "id": "13cc2e42",
   "metadata": {},
   "outputs": [],
   "source": [
    "a = ['a','c','d',1,3,'y']\n",
    "a = Rotation(a)"
   ]
  },
  {
   "cell_type": "code",
   "execution_count": 9,
   "id": "2150cee5",
   "metadata": {},
   "outputs": [
    {
     "data": {
      "text/plain": [
       "['y', 3, 1, 'd', 'c', 'a']"
      ]
     },
     "execution_count": 9,
     "metadata": {},
     "output_type": "execute_result"
    }
   ],
   "source": [
    "a"
   ]
  },
  {
   "cell_type": "markdown",
   "id": "e3513234",
   "metadata": {},
   "source": [
    "4.Write a Python Program to Split the array and add the first part to the end?"
   ]
  },
  {
   "cell_type": "code",
   "execution_count": 10,
   "id": "5bebf6ad",
   "metadata": {},
   "outputs": [],
   "source": [
    "def Split_array(a,n):\n",
    "    temp1 = a[:n]\n",
    "    temp2 = a[n+1:]\n",
    "    \n",
    "    return temp1,temp2\n",
    "    "
   ]
  },
  {
   "cell_type": "code",
   "execution_count": 11,
   "id": "9c6fe56a",
   "metadata": {},
   "outputs": [
    {
     "name": "stdout",
     "output_type": "stream",
     "text": [
      "Enter a index to split the array:4\n"
     ]
    }
   ],
   "source": [
    "a = [1,2,3,'a','b','c','d','e','f']\n",
    "try:\n",
    "    n = int(input(\"Enter a index to split the array:\"))\n",
    "    if n >= len(a):\n",
    "        print(\"Enter an index smaller than the length of the array!!\")\n",
    "    \n",
    "    else:\n",
    "        a1,a2 = Split_array(a,n)\n",
    "    \n",
    "except:\n",
    "    print(\"Error!!\")\n",
    "    "
   ]
  },
  {
   "cell_type": "code",
   "execution_count": 12,
   "id": "0299c5cb",
   "metadata": {},
   "outputs": [
    {
     "data": {
      "text/plain": [
       "[1, 2, 3, 'a']"
      ]
     },
     "execution_count": 12,
     "metadata": {},
     "output_type": "execute_result"
    }
   ],
   "source": [
    "a1"
   ]
  },
  {
   "cell_type": "code",
   "execution_count": 13,
   "id": "d7590f62",
   "metadata": {},
   "outputs": [
    {
     "data": {
      "text/plain": [
       "['c', 'd', 'e', 'f']"
      ]
     },
     "execution_count": 13,
     "metadata": {},
     "output_type": "execute_result"
    }
   ],
   "source": [
    "a2"
   ]
  },
  {
   "cell_type": "markdown",
   "id": "fd789b05",
   "metadata": {},
   "source": [
    "5.Write a Python Program to check if given array is Monotonic?"
   ]
  },
  {
   "cell_type": "code",
   "execution_count": 14,
   "id": "a545f672",
   "metadata": {},
   "outputs": [],
   "source": [
    "m = \"Is monotonic!!\"\n",
    "n = \"Is not monotonic!!\"\n",
    "def Monotonic(a):\n",
    "    b = c = a[:len(a)]\n",
    "    b = b.sort()\n",
    "    c = c.sort(reverse=True)\n",
    "    \n",
    "    if b == a or c == a:\n",
    "        return m\n",
    "    \n",
    "    else:\n",
    "        return n"
   ]
  },
  {
   "cell_type": "code",
   "execution_count": 15,
   "id": "1f08e9ac",
   "metadata": {},
   "outputs": [],
   "source": [
    "a = [1,2,37,6,8]\n",
    "Type = Monotonic(a)"
   ]
  },
  {
   "cell_type": "code",
   "execution_count": 16,
   "id": "3759006b",
   "metadata": {},
   "outputs": [
    {
     "data": {
      "text/plain": [
       "'Is not monotonic!!'"
      ]
     },
     "execution_count": 16,
     "metadata": {},
     "output_type": "execute_result"
    }
   ],
   "source": [
    "Type"
   ]
  }
 ],
 "metadata": {
  "kernelspec": {
   "display_name": "Python 3 (ipykernel)",
   "language": "python",
   "name": "python3"
  },
  "language_info": {
   "codemirror_mode": {
    "name": "ipython",
    "version": 3
   },
   "file_extension": ".py",
   "mimetype": "text/x-python",
   "name": "python",
   "nbconvert_exporter": "python",
   "pygments_lexer": "ipython3",
   "version": "3.9.7"
  }
 },
 "nbformat": 4,
 "nbformat_minor": 5
}
