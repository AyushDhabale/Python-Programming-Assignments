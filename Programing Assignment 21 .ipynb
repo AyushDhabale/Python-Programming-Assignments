{
 "cells": [
  {
   "cell_type": "markdown",
   "id": "18da2b4f",
   "metadata": {},
   "source": [
    "Question1 Write a function that takes a list and a number as arguments. Add the number to the end of\n",
    "\n",
    "the list, then remove the first element of the list. The function should then return the updated\n",
    "\n",
    "list."
   ]
  },
  {
   "cell_type": "code",
   "execution_count": 3,
   "id": "a8a9e410",
   "metadata": {},
   "outputs": [],
   "source": [
    "def Add_remove(l,n):\n",
    "    temp = []\n",
    "    for i in l:\n",
    "        temp.append(int(i))\n",
    "    temp.append(n)\n",
    "    temp.pop(0)\n",
    "    return temp"
   ]
  },
  {
   "cell_type": "code",
   "execution_count": 4,
   "id": "0b971820",
   "metadata": {},
   "outputs": [
    {
     "name": "stdout",
     "output_type": "stream",
     "text": [
      "\n",
      "INPUT:\n",
      "1,2,3,4,5,6,7\n",
      "8\n",
      "\n",
      "OUTPUT:\n",
      "[2, 3, 4, 5, 6, 7, 8]\n"
     ]
    }
   ],
   "source": [
    "try:\n",
    "    print(\"\\nINPUT:\")\n",
    "    l = input().split(',')\n",
    "    n = int(input())\n",
    "    \n",
    "    result = Add_remove(l,n)\n",
    "    \n",
    "    print(\"\\nOUTPUT:\")\n",
    "    print(result)\n",
    "    \n",
    "except Exception as e:\n",
    "    print(e,\"----Error!!\")"
   ]
  },
  {
   "cell_type": "markdown",
   "id": "eb407943",
   "metadata": {},
   "source": [
    "Question2 Create the function that takes a list of dictionaries and returns the sum of people&#39;s budgets."
   ]
  },
  {
   "cell_type": "code",
   "execution_count": 15,
   "id": "a42c75be",
   "metadata": {},
   "outputs": [],
   "source": [
    "def budget(l):\n",
    "    Sum = 0\n",
    "    for i in l:\n",
    "        for j,k in i.items():\n",
    "            if j == 'budget':\n",
    "                Sum += int(k)\n",
    "    return Sum"
   ]
  },
  {
   "cell_type": "code",
   "execution_count": 18,
   "id": "c672b37d",
   "metadata": {},
   "outputs": [
    {
     "name": "stdout",
     "output_type": "stream",
     "text": [
      "\n",
      "INPUT:\n",
      "3\n",
      "name:jonh\n",
      "age:21\n",
      "budget:22000\n",
      "name:martin\n",
      "age:14\n",
      "budget:40000\n",
      "name:harry\n",
      "age:9\n",
      "budget:13000\n",
      "[{'name': 'jonh', 'age': '21', 'budget': '22000'}, {'name': 'martin', 'age': '14', 'budget': '40000'}, {'name': 'harry', 'age': '9', 'budget': '13000'}]\n",
      "\n",
      "OUTPUT:\n",
      "75000\n"
     ]
    }
   ],
   "source": [
    "try:\n",
    "    print(\"\\nINPUT:\")\n",
    "    n = int(input())\n",
    "    l = []\n",
    "    for i in range(n):\n",
    "        d = dict(input().split(':')for i in range(3))\n",
    "        l.append(d)\n",
    "        \n",
    "    print(l)\n",
    "    result = budget(l)\n",
    "    \n",
    "    print(\"\\nOUTPUT:\")\n",
    "    print(result)\n",
    "    \n",
    "except Exception as e:\n",
    "    print(e,\"----Error!!\")"
   ]
  },
  {
   "cell_type": "markdown",
   "id": "87791d7d",
   "metadata": {},
   "source": [
    "Question3 Create a function that takes a string and returns a string with its letters in alphabetical order."
   ]
  },
  {
   "cell_type": "code",
   "execution_count": 19,
   "id": "e1fa0c63",
   "metadata": {},
   "outputs": [],
   "source": [
    "def Order(s):\n",
    "    s.sort()\n",
    "    Str = \"\"\n",
    "    for i in s:\n",
    "        Str += i\n",
    "        \n",
    "    return Str"
   ]
  },
  {
   "cell_type": "code",
   "execution_count": 22,
   "id": "0187e694",
   "metadata": {},
   "outputs": [
    {
     "name": "stdout",
     "output_type": "stream",
     "text": [
      "\n",
      "INPUT:\n",
      "HelloWorld\n",
      "\n",
      "OUTPUT:\n",
      "dehllloorw\n"
     ]
    }
   ],
   "source": [
    "try:\n",
    "    print(\"\\nINPUT:\")\n",
    "    s = input()\n",
    "    s = list(s.lower())\n",
    "    result = Order(s)\n",
    "    \n",
    "    print(\"\\nOUTPUT:\")\n",
    "    print(result)\n",
    "    \n",
    "except Exception as e:\n",
    "    print(e,\"----Error!!\")"
   ]
  },
  {
   "cell_type": "markdown",
   "id": "f7b33119",
   "metadata": {},
   "source": [
    "Question4 Create a function that accepts the principal p, the term in years t, the interest rate r, and the\n",
    "\n",
    "number of compounding periods per year n. The function returns the value at the end of term\n",
    "\n",
    "rounded to the nearest cent."
   ]
  },
  {
   "cell_type": "code",
   "execution_count": 23,
   "id": "dd0bf640",
   "metadata": {},
   "outputs": [],
   "source": [
    "def Compound_interest(p,t,r,n):\n",
    "    amount = p * (1 + r/n)**(n*t)\n",
    "    \n",
    "    return round(amount,2)"
   ]
  },
  {
   "cell_type": "code",
   "execution_count": 24,
   "id": "5834cfbe",
   "metadata": {},
   "outputs": [
    {
     "name": "stdout",
     "output_type": "stream",
     "text": [
      "\n",
      "INPUT:\n",
      "20000\n",
      "20\n",
      "0.5\n",
      "6\n",
      "\n",
      "OUTPUT:\n",
      "296812882.62\n"
     ]
    }
   ],
   "source": [
    "try:\n",
    "    print(\"\\nINPUT:\")\n",
    "    p = int(input())\n",
    "    t = int(input())\n",
    "    r = float(input())\n",
    "    n = int(input())\n",
    "    \n",
    "    result = Compound_interest(p,t,r,n)\n",
    "    \n",
    "    print(\"\\nOUTPUT:\")\n",
    "    print(result)\n",
    "    \n",
    "except Exception as e:\n",
    "    print(e,\"----Error!!\")"
   ]
  },
  {
   "cell_type": "markdown",
   "id": "caf1855e",
   "metadata": {},
   "source": [
    "Question5 Write a function that takes a list of elements and returns only the integers."
   ]
  },
  {
   "cell_type": "code",
   "execution_count": 25,
   "id": "29728f93",
   "metadata": {},
   "outputs": [],
   "source": [
    "def integers(s):\n",
    "    l = []\n",
    "    for i in s:\n",
    "        if i.isdigit():\n",
    "            l.append(int(i))\n",
    "            \n",
    "    return l"
   ]
  },
  {
   "cell_type": "code",
   "execution_count": 26,
   "id": "6defd774",
   "metadata": {},
   "outputs": [
    {
     "name": "stdout",
     "output_type": "stream",
     "text": [
      "\n",
      "INPUT:\n",
      "1,2,data,science,4,6,8,ineuron\n",
      "\n",
      "OUTPUT:\n",
      "[1, 2, 4, 6, 8]\n"
     ]
    }
   ],
   "source": [
    "try:\n",
    "    print(\"\\nINPUT:\")\n",
    "    s = input().split(',')\n",
    "    \n",
    "    result = integers(s)\n",
    "    \n",
    "    print(\"\\nOUTPUT:\")\n",
    "    print(result)\n",
    "    \n",
    "except Exception as e:\n",
    "    print(e,\"----Error!!\")"
   ]
  }
 ],
 "metadata": {
  "kernelspec": {
   "display_name": "Python 3 (ipykernel)",
   "language": "python",
   "name": "python3"
  },
  "language_info": {
   "codemirror_mode": {
    "name": "ipython",
    "version": 3
   },
   "file_extension": ".py",
   "mimetype": "text/x-python",
   "name": "python",
   "nbconvert_exporter": "python",
   "pygments_lexer": "ipython3",
   "version": "3.9.7"
  }
 },
 "nbformat": 4,
 "nbformat_minor": 5
}
