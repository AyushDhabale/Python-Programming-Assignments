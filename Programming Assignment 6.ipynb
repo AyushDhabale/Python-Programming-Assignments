{
 "cells": [
  {
   "cell_type": "markdown",
   "id": "323c2aac",
   "metadata": {},
   "source": [
    "1.Write a Python Program to Display Fibonacci Sequence Using Recursion?"
   ]
  },
  {
   "cell_type": "code",
   "execution_count": 1,
   "id": "91f01822",
   "metadata": {},
   "outputs": [],
   "source": [
    "def fibonacci(n):\n",
    "    if n <= 1:\n",
    "        return n\n",
    "    else:\n",
    "        return(fibonacci(n-1) + fibonacci(n-2)) "
   ]
  },
  {
   "cell_type": "code",
   "execution_count": 2,
   "id": "a68ee9c3",
   "metadata": {},
   "outputs": [
    {
     "name": "stdout",
     "output_type": "stream",
     "text": [
      "Enter the number of terms:10\n",
      "0\n",
      "1\n",
      "1\n",
      "2\n",
      "3\n",
      "5\n",
      "8\n",
      "13\n",
      "21\n",
      "34\n"
     ]
    }
   ],
   "source": [
    "try:\n",
    "    terms = int(input(\"Enter the number of terms:\"))\n",
    "    if terms <= 0:\n",
    "        print(\"Plese enter a positive integer\")\n",
    "    else:\n",
    "        for i in range(terms):\n",
    "            print(fibonacci(i))\n",
    "            \n",
    "except:\n",
    "    print(\"Error!!\")\n",
    "    "
   ]
  },
  {
   "cell_type": "markdown",
   "id": "be7d9812",
   "metadata": {},
   "source": [
    "2.Write a Python Program to Find Factorial of Number Using Recursion?"
   ]
  },
  {
   "cell_type": "code",
   "execution_count": 3,
   "id": "2a7d5c9b",
   "metadata": {},
   "outputs": [],
   "source": [
    "def Factorial(a):\n",
    "    if a == 1 or a==0:\n",
    "        return 1\n",
    "    else:\n",
    "        return a * Factorial(a-1)"
   ]
  },
  {
   "cell_type": "code",
   "execution_count": 4,
   "id": "3156835a",
   "metadata": {},
   "outputs": [
    {
     "name": "stdout",
     "output_type": "stream",
     "text": [
      "Enter a number:6\n"
     ]
    }
   ],
   "source": [
    "try:\n",
    "    a = int(input(\"Enter a number:\"))\n",
    "    f = Factorial(a)\n",
    "            \n",
    "except:\n",
    "    print(\"Error!!\")\n",
    "            "
   ]
  },
  {
   "cell_type": "code",
   "execution_count": 5,
   "id": "27a6d12f",
   "metadata": {},
   "outputs": [
    {
     "data": {
      "text/plain": [
       "720"
      ]
     },
     "execution_count": 5,
     "metadata": {},
     "output_type": "execute_result"
    }
   ],
   "source": [
    "f"
   ]
  },
  {
   "cell_type": "markdown",
   "id": "7956f482",
   "metadata": {},
   "source": [
    "3.Write a Python Program to calculate your Body Mass Index?"
   ]
  },
  {
   "cell_type": "code",
   "execution_count": 6,
   "id": "b99c3d77",
   "metadata": {},
   "outputs": [],
   "source": [
    "def BMI(height,weight):\n",
    "    return weight/(height**2)"
   ]
  },
  {
   "cell_type": "code",
   "execution_count": 7,
   "id": "a35d1d53",
   "metadata": {},
   "outputs": [
    {
     "name": "stdout",
     "output_type": "stream",
     "text": [
      "Enter your height in meters:1.67\n",
      "Enter your weight in kg:50\n"
     ]
    }
   ],
   "source": [
    "try:\n",
    "    a = float(input(\"Enter your height in meters:\"))\n",
    "    b = int(input(\"Enter your weight in kg:\"))\n",
    "    bmi = BMI(a,b)\n",
    "    \n",
    "except:\n",
    "    print(\"Error!!\")"
   ]
  },
  {
   "cell_type": "code",
   "execution_count": 8,
   "id": "27434e64",
   "metadata": {},
   "outputs": [
    {
     "data": {
      "text/plain": [
       "17.93"
      ]
     },
     "execution_count": 8,
     "metadata": {},
     "output_type": "execute_result"
    }
   ],
   "source": [
    "round(bmi,2)"
   ]
  },
  {
   "cell_type": "markdown",
   "id": "629daa23",
   "metadata": {},
   "source": [
    "4.Write a Python Program to calculate the natural logarithm of any number?"
   ]
  },
  {
   "cell_type": "code",
   "execution_count": 9,
   "id": "108733b2",
   "metadata": {},
   "outputs": [
    {
     "name": "stdout",
     "output_type": "stream",
     "text": [
      "Enter a number:4\n",
      "Enter a number:2\n"
     ]
    }
   ],
   "source": [
    "import math\n",
    "try:\n",
    "    a = float(input(\"Enter a number:\"))\n",
    "    b = float(input(\"Enter a number:\"))\n",
    "\n",
    "    LOG = math.log(a,b)\n",
    "    \n",
    "except:\n",
    "    print(\"Error!!\")"
   ]
  },
  {
   "cell_type": "code",
   "execution_count": 10,
   "id": "44d2d9b9",
   "metadata": {},
   "outputs": [
    {
     "data": {
      "text/plain": [
       "2.0"
      ]
     },
     "execution_count": 10,
     "metadata": {},
     "output_type": "execute_result"
    }
   ],
   "source": [
    "round(LOG,2)"
   ]
  },
  {
   "cell_type": "markdown",
   "id": "b01ea762",
   "metadata": {},
   "source": [
    "5.Write a Python Program for cube sum of first n natural numbers?"
   ]
  },
  {
   "cell_type": "code",
   "execution_count": 11,
   "id": "a26e931b",
   "metadata": {},
   "outputs": [],
   "source": [
    "def Cubic_sum(n):\n",
    "    return (n*(n+1)/2)**2"
   ]
  },
  {
   "cell_type": "code",
   "execution_count": 12,
   "id": "84a1cc76",
   "metadata": {},
   "outputs": [
    {
     "name": "stdout",
     "output_type": "stream",
     "text": [
      "Enter a number:20\n"
     ]
    }
   ],
   "source": [
    "try:\n",
    "    n = int(input(\"Enter a number:\"))\n",
    "    Sum = Cubic_sum(n)\n",
    "\n",
    "except:\n",
    "    print(\"Error!!\")"
   ]
  },
  {
   "cell_type": "code",
   "execution_count": 13,
   "id": "6bbe3c2b",
   "metadata": {},
   "outputs": [
    {
     "data": {
      "text/plain": [
       "44100"
      ]
     },
     "execution_count": 13,
     "metadata": {},
     "output_type": "execute_result"
    }
   ],
   "source": [
    "int(Sum)"
   ]
  }
 ],
 "metadata": {
  "kernelspec": {
   "display_name": "Python 3 (ipykernel)",
   "language": "python",
   "name": "python3"
  },
  "language_info": {
   "codemirror_mode": {
    "name": "ipython",
    "version": 3
   },
   "file_extension": ".py",
   "mimetype": "text/x-python",
   "name": "python",
   "nbconvert_exporter": "python",
   "pygments_lexer": "ipython3",
   "version": "3.9.7"
  }
 },
 "nbformat": 4,
 "nbformat_minor": 5
}
