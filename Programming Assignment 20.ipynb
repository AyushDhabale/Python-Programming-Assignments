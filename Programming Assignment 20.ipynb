{
 "cells": [
  {
   "cell_type": "markdown",
   "id": "f4f2b71f",
   "metadata": {},
   "source": [
    "Question1 Create a function that takes a list of strings and integers, and filters out the list so that it\n",
    "\n",
    "returns a list of integers only."
   ]
  },
  {
   "cell_type": "code",
   "execution_count": 1,
   "id": "513b1b29",
   "metadata": {},
   "outputs": [],
   "source": [
    " def integer(s):\n",
    "        temp = []\n",
    "        for i in s:\n",
    "            if i.isdigit():\n",
    "                temp.append(int(i))\n",
    "                \n",
    "        return temp"
   ]
  },
  {
   "cell_type": "code",
   "execution_count": 2,
   "id": "b2df201e",
   "metadata": {},
   "outputs": [
    {
     "name": "stdout",
     "output_type": "stream",
     "text": [
      "INPUT:\n",
      "data,science,1,2,7,ineuron,bAGS,8,9,bootcamp\n",
      "\n",
      "OUTPUT:\n",
      "[1, 2, 7, 8, 9]\n"
     ]
    }
   ],
   "source": [
    "try:\n",
    "    print(\"INPUT:\")\n",
    "    s = input().split(',')\n",
    "    \n",
    "    Int = integer(s)\n",
    "    \n",
    "    print(\"\\nOUTPUT:\")\n",
    "    print(Int)\n",
    "    \n",
    "except Exception as e:\n",
    "    print(e,\"----Error!!\")"
   ]
  },
  {
   "cell_type": "markdown",
   "id": "e42d77ed",
   "metadata": {},
   "source": [
    "Question2 Given a list of numbers, create a function which returns the list but with each element&#39;s\n",
    "\n",
    "index in the list added to itself. This means you add 0 to the number at index 0, add 1 to the\n",
    "\n",
    "number at index 1, etc..."
   ]
  },
  {
   "cell_type": "code",
   "execution_count": 3,
   "id": "9416c020",
   "metadata": {},
   "outputs": [],
   "source": [
    "def num_index(s):\n",
    "    temp = []\n",
    "    \n",
    "    for i in range(len(s)):\n",
    "        temp.append((i+int(s[i])))\n",
    "        \n",
    "    return temp"
   ]
  },
  {
   "cell_type": "code",
   "execution_count": 4,
   "id": "7d4e1b02",
   "metadata": {},
   "outputs": [
    {
     "name": "stdout",
     "output_type": "stream",
     "text": [
      "INPUT:\n",
      "1,2,4,6,7,8,10\n",
      "\n",
      "OUTPUT:\n",
      "[1, 3, 6, 9, 11, 13, 16]\n"
     ]
    }
   ],
   "source": [
    "try:\n",
    "    print(\"INPUT:\")\n",
    "    s = input().split(',')\n",
    "    \n",
    "    result = num_index(s)\n",
    "    \n",
    "    print(\"\\nOUTPUT:\")\n",
    "    print(result)\n",
    "    \n",
    "except Exception as e:\n",
    "    print(e,\"----Error!!\")"
   ]
  },
  {
   "cell_type": "markdown",
   "id": "c43f14ec",
   "metadata": {},
   "source": [
    "Question3 Create a function that takes the height and radius of a cone as arguments and returns the\n",
    "\n",
    "volume of the cone rounded to the nearest hundredth. See the resources tab for the formula."
   ]
  },
  {
   "cell_type": "code",
   "execution_count": 5,
   "id": "ab92ac97",
   "metadata": {},
   "outputs": [],
   "source": [
    "import math\n",
    "def Volume(h,r):\n",
    "    volume = (math.pi * (r**2) * h)/3\n",
    "    \n",
    "    return round(volume,2)"
   ]
  },
  {
   "cell_type": "code",
   "execution_count": 6,
   "id": "90351223",
   "metadata": {},
   "outputs": [
    {
     "name": "stdout",
     "output_type": "stream",
     "text": [
      "INPUT:\n",
      "14\n",
      "7\n",
      "\n",
      "OUTPUT:\n",
      "718.38\n"
     ]
    }
   ],
   "source": [
    "try:\n",
    "    print(\"INPUT:\")\n",
    "    h = int(input())\n",
    "    r = int(input())\n",
    "    \n",
    "    result = Volume(h,r)\n",
    "    \n",
    "    print(\"\\nOUTPUT:\")\n",
    "    print(result)\n",
    "    \n",
    "except Exception as e:\n",
    "    print(e,\"----Error!!\")"
   ]
  },
  {
   "cell_type": "markdown",
   "id": "6e69772d",
   "metadata": {},
   "source": [
    "Question4 This Triangular Number Sequence is generated from a pattern of dots that form a triangle.\n",
    "\n",
    "The first 5 numbers of the sequence, or dots, are:\n",
    "\n",
    "1,3,6,10,15,.....\n",
    "\n",
    "Write a function that gives the number of dots with its corresponding triangle number of the\n",
    "\n",
    "sequence."
   ]
  },
  {
   "cell_type": "code",
   "execution_count": 7,
   "id": "18ea4a2e",
   "metadata": {},
   "outputs": [],
   "source": [
    "def dots_num(n):\n",
    "    num = 0\n",
    "    for i in range(1,n+1):\n",
    "        num += i\n",
    "        \n",
    "    return num"
   ]
  },
  {
   "cell_type": "code",
   "execution_count": 8,
   "id": "103f9c7c",
   "metadata": {},
   "outputs": [
    {
     "name": "stdout",
     "output_type": "stream",
     "text": [
      "INPUT:\n",
      "8\n",
      "\n",
      "OUTPUT:\n",
      "36\n"
     ]
    }
   ],
   "source": [
    "try:\n",
    "    print(\"INPUT:\")\n",
    "    n = int(input())\n",
    "    \n",
    "    result = dots_num(n)\n",
    "    \n",
    "    print(\"\\nOUTPUT:\")\n",
    "    print(result)\n",
    "    \n",
    "except Exception as e:\n",
    "    print(e,\"----Error!!\")"
   ]
  },
  {
   "cell_type": "markdown",
   "id": "f5f7fb4e",
   "metadata": {},
   "source": [
    "Question5 Create a function that takes a list of numbers between 1 and 10 (excluding one number) and\n",
    "\n",
    "returns the missing number."
   ]
  },
  {
   "cell_type": "code",
   "execution_count": 9,
   "id": "e899ad80",
   "metadata": {},
   "outputs": [],
   "source": [
    "def missing_num(l):\n",
    "    num = [1,2,3,4,5,6,7,8,9,10]\n",
    "    \n",
    "    for i in num:\n",
    "        if str(i) not in l:\n",
    "            return (int(i))"
   ]
  },
  {
   "cell_type": "code",
   "execution_count": 10,
   "id": "6a1250dd",
   "metadata": {},
   "outputs": [
    {
     "name": "stdout",
     "output_type": "stream",
     "text": [
      "INPUT:\n",
      "1,2,3,4,5,7,8,9,10\n",
      "\n",
      "OUTPUT:\n",
      "6\n"
     ]
    }
   ],
   "source": [
    "try:\n",
    "    print(\"INPUT:\")\n",
    "    l = input().split(',')\n",
    "    \n",
    "    num = missing_num(l)\n",
    "    \n",
    "    print(\"\\nOUTPUT:\")\n",
    "    print(num)\n",
    "    \n",
    "except Exception as e:\n",
    "    print(e,\"----Error!!\")"
   ]
  }
 ],
 "metadata": {
  "kernelspec": {
   "display_name": "Python 3 (ipykernel)",
   "language": "python",
   "name": "python3"
  },
  "language_info": {
   "codemirror_mode": {
    "name": "ipython",
    "version": 3
   },
   "file_extension": ".py",
   "mimetype": "text/x-python",
   "name": "python",
   "nbconvert_exporter": "python",
   "pygments_lexer": "ipython3",
   "version": "3.9.7"
  }
 },
 "nbformat": 4,
 "nbformat_minor": 5
}
